{
 "cells": [
  {
   "cell_type": "markdown",
   "metadata": {},
   "source": [
    "# MLDM Group Assignment\n",
    "### Members: Brigitte Aznar, Daniel Kostic and Stefan Vujovic"
   ]
  },
  {
   "cell_type": "markdown",
   "metadata": {},
   "source": [
    "Data explanation\n",
    "survival        Survival\n",
    "                (0 = No; 1 = Yes)\n",
    "pclass          Passenger Class\n",
    "                (1 = 1st; 2 = 2nd; 3 = 3rd)\n",
    "name            Name\n",
    "sex             Sex\n",
    "age             Age\n",
    "sibsp           Number of Siblings/Spouses Aboard\n",
    "parch           Number of Parents/Children Aboard\n",
    "ticket          Ticket Number\n",
    "fare            Passenger Fare\n",
    "cabin           Cabin\n",
    "embarked        Port of Embarkation\n",
    "                (C = Cherbourg; Q = Queenstown; S = Southampton)\n"
   ]
  },
  {
   "cell_type": "code",
   "execution_count": 27,
   "metadata": {
    "collapsed": false
   },
   "outputs": [],
   "source": [
    "import pandas as pd\n",
    "import numpy as np\n",
    "df = pd.read_csv('data.csv', index_col=0)"
   ]
  },
  {
   "cell_type": "code",
   "execution_count": 28,
   "metadata": {
    "collapsed": false
   },
   "outputs": [
    {
     "data": {
      "text/html": [
       "<div>\n",
       "<table border=\"1\" class=\"dataframe\">\n",
       "  <thead>\n",
       "    <tr style=\"text-align: right;\">\n",
       "      <th></th>\n",
       "      <th>survived</th>\n",
       "      <th>pclass</th>\n",
       "      <th>sex</th>\n",
       "      <th>age</th>\n",
       "      <th>sibsp</th>\n",
       "      <th>parch</th>\n",
       "      <th>fare</th>\n",
       "      <th>embarked</th>\n",
       "    </tr>\n",
       "  </thead>\n",
       "  <tbody>\n",
       "    <tr>\n",
       "      <th>0</th>\n",
       "      <td>1</td>\n",
       "      <td>firstClass</td>\n",
       "      <td>female</td>\n",
       "      <td>29.0000</td>\n",
       "      <td>0</td>\n",
       "      <td>0</td>\n",
       "      <td>211.3375</td>\n",
       "      <td>S</td>\n",
       "    </tr>\n",
       "    <tr>\n",
       "      <th>1</th>\n",
       "      <td>1</td>\n",
       "      <td>firstClass</td>\n",
       "      <td>male</td>\n",
       "      <td>0.9167</td>\n",
       "      <td>1</td>\n",
       "      <td>2</td>\n",
       "      <td>151.5500</td>\n",
       "      <td>S</td>\n",
       "    </tr>\n",
       "    <tr>\n",
       "      <th>2</th>\n",
       "      <td>0</td>\n",
       "      <td>firstClass</td>\n",
       "      <td>female</td>\n",
       "      <td>2.0000</td>\n",
       "      <td>1</td>\n",
       "      <td>2</td>\n",
       "      <td>151.5500</td>\n",
       "      <td>S</td>\n",
       "    </tr>\n",
       "    <tr>\n",
       "      <th>3</th>\n",
       "      <td>0</td>\n",
       "      <td>firstClass</td>\n",
       "      <td>male</td>\n",
       "      <td>30.0000</td>\n",
       "      <td>1</td>\n",
       "      <td>2</td>\n",
       "      <td>151.5500</td>\n",
       "      <td>S</td>\n",
       "    </tr>\n",
       "    <tr>\n",
       "      <th>4</th>\n",
       "      <td>0</td>\n",
       "      <td>firstClass</td>\n",
       "      <td>female</td>\n",
       "      <td>25.0000</td>\n",
       "      <td>1</td>\n",
       "      <td>2</td>\n",
       "      <td>151.5500</td>\n",
       "      <td>S</td>\n",
       "    </tr>\n",
       "  </tbody>\n",
       "</table>\n",
       "</div>"
      ],
      "text/plain": [
       "   survived      pclass     sex      age  sibsp  parch      fare embarked\n",
       "0         1  firstClass  female  29.0000      0      0  211.3375        S\n",
       "1         1  firstClass    male   0.9167      1      2  151.5500        S\n",
       "2         0  firstClass  female   2.0000      1      2  151.5500        S\n",
       "3         0  firstClass    male  30.0000      1      2  151.5500        S\n",
       "4         0  firstClass  female  25.0000      1      2  151.5500        S"
      ]
     },
     "execution_count": 28,
     "metadata": {},
     "output_type": "execute_result"
    }
   ],
   "source": [
    "def makeClass(x):\n",
    "    if x==1: return \"firstClass\"\n",
    "    elif x==2: return \"secondClass\"\n",
    "    else: return \"thirdClass\"\n",
    "df['pclass'] = df.pclass.apply(lambda x: makeClass(x))\n",
    "\n",
    "# df.fare.dropna(inplace=True, how='any')\n",
    "df = df[pd.notnull(df['embarked'])]\n",
    "df.head()"
   ]
  },
  {
   "cell_type": "code",
   "execution_count": 33,
   "metadata": {
    "collapsed": false
   },
   "outputs": [],
   "source": [
    "import matplotlib.pylab as plt\n",
    "def proportion_df(discrete_val):\n",
    "    by_var = df.groupby([discrete_val,'survived'])\n",
    "    freq_table = by_var.size()\n",
    "    freq_table = freq_table.unstack()\n",
    "    freq_table = freq_table.div(freq_table.sum(1), axis=0)\n",
    "    return freq_table"
   ]
  },
  {
   "cell_type": "code",
   "execution_count": 34,
   "metadata": {
    "collapsed": false
   },
   "outputs": [
    {
     "data": {
      "image/png": "[encoded data removed]",
      "text/plain": [
       "<matplotlib.figure.Figure at 0x967d198>"
      ]
     },
     "metadata": {},
     "output_type": "display_data"
    }
   ],
   "source": [
    "value_list = ['embarked','sex','pclass']\n",
    "canvas, axes1 = plt.subplots(len(value_list),1)\n",
    "for val in value_list:\n",
    "    freq_table = proportion_df(val)\n",
    "    colorsheme = ['red','blue']\n",
    "    freq_table.plot(kind='barh', stacked=True, ax=axes1[value_list.index(val)], color=colorsheme)\n",
    "plt.show()"
   ]
  },
  {
   "cell_type": "markdown",
   "metadata": {},
   "source": [
    "Looking at these plots we can see that it is much more likely for a female to survive. Furthermore,\n",
    "we can see that the passanger class has an impact on survival, the lower the class, the lower probability of survival.\n",
    "The people who embark at Cherbourg have most chances of survival, much better than people from Queenstown and Southampton. "
   ]
  },
  {
   "cell_type": "code",
   "execution_count": 35,
   "metadata": {
    "collapsed": true
   },
   "outputs": [],
   "source": [
    "by_var = df.groupby([\"sex\",'pclass','embarked','survived'])\n",
    "freq_table = by_var.size()\n",
    "freq_table = freq_table.unstack()\n",
    "freq_table = freq_table.div(freq_table.sum(1), axis=0)"
   ]
  },
  {
   "cell_type": "code",
   "execution_count": 36,
   "metadata": {
    "collapsed": true
   },
   "outputs": [],
   "source": [
    "classes = ['firstClass','secondClass','thirdClass']\n",
    "def plot_by_sex_and_class(df,sex,class_list):\n",
    "    sex = freq_table.loc[sex]\n",
    "    canvas, axes1 = plt.subplots(len(class_list),1)\n",
    "    for c in class_list:\n",
    "        tbl = sex.loc[c]\n",
    "        colorsheme = ['red','blue']\n",
    "        tbl.plot(kind='barh', stacked=True, ax=axes1[class_list.index(c)], color=colorsheme, title=str(c))\n",
    "    canvas.tight_layout()   \n",
    "    plt.show()"
   ]
  },
  {
   "cell_type": "code",
   "execution_count": 37,
   "metadata": {
    "collapsed": false
   },
   "outputs": [
    {
     "data": {
      "image/png": "[encoded data removed]",
      "text/plain": [
       "<matplotlib.figure.Figure at 0x9bc1358>"
      ]
     },
     "metadata": {},
     "output_type": "display_data"
    }
   ],
   "source": [
    "plot_by_sex_and_class(freq_table, 'male', classes)"
   ]
  },
  {
   "cell_type": "markdown",
   "metadata": {},
   "source": [
    "Here, we can see that males who embarked in Queenstown have the best chances of survival."
   ]
  },
  {
   "cell_type": "code",
   "execution_count": 38,
   "metadata": {
    "collapsed": false,
    "scrolled": true
   },
   "outputs": [
    {
     "data": {
      "image/png": "[encoded data removed]",
      "text/plain": [
       "<matplotlib.figure.Figure at 0x9bd2a90>"
      ]
     },
     "metadata": {},
     "output_type": "display_data"
    }
   ],
   "source": [
    "plot_by_sex_and_class(freq_table, 'female', classes)"
   ]
  },
  {
   "cell_type": "raw",
   "metadata": {},
   "source": [
    "Here we can see that women that travel in third class have significantly less chances of survival. Also, women who embarked in Southampton and are traveling in any class have the lowest survival rate. "
   ]
  },
  {
   "cell_type": "code",
   "execution_count": null,
   "metadata": {
    "collapsed": true
   },
   "outputs": [],
   "source": [
    "bins = [0,5,18, 25, 40, 60, 100]\n",
    "binNames =['Young Child', 'Child', 'Young Adult', 'Adult', 'Middle Aged', 'Older']\n",
    "binAge = pd.cut(df.age, bins, labels=binNames)\n",
    "binAge\n",
    "\n",
    "group = df.groupby([binAge, 'sex', 'survived'])\n",
    "group = group.size().unstack()\n",
    "group = group.div(group.sum(1), axis=0)\n",
    "colorsheme = ['red','blue']\n",
    "ax = group.plot(kind='barh', stacked=True, color=colorsheme)\n",
    "plt.show()"
   ]
  },
  {
   "cell_type": "markdown",
   "metadata": {},
   "source": [
    "When we look at the sex and age, we can see that the older the men are, the smaller the chances of survival are. It is vice versa for women. "
   ]
  },
  {
   "cell_type": "markdown",
   "metadata": {},
   "source": [
    "## What is the age/class of persons whose fare is 0? Are they babies/kids?"
   ]
  },
  {
   "cell_type": "code",
   "execution_count": 3,
   "metadata": {
    "collapsed": false
   },
   "outputs": [
    {
     "data": {
      "text/plain": [
       "NaN      9\n",
       " 49.0    2\n",
       " 25.0    1\n",
       " 36.0    1\n",
       " 19.0    1\n",
       " 38.0    1\n",
       " 40.0    1\n",
       " 39.0    1\n",
       "Name: age, dtype: int64"
      ]
     },
     "execution_count": 3,
     "metadata": {},
     "output_type": "execute_result"
    }
   ],
   "source": [
    "df[df.fare==0].age.value_counts(dropna=False)"
   ]
  },
  {
   "cell_type": "code",
   "execution_count": 4,
   "metadata": {
    "collapsed": false
   },
   "outputs": [
    {
     "data": {
      "text/plain": [
       "NaN      9\n",
       " 49.0    2\n",
       " 25.0    1\n",
       " 36.0    1\n",
       " 19.0    1\n",
       " 38.0    1\n",
       " 40.0    1\n",
       " 39.0    1\n",
       "Name: age, dtype: int64"
      ]
     },
     "execution_count": 4,
     "metadata": {},
     "output_type": "execute_result"
    }
   ],
   "source": [
    "df[df.fare==0].age.value_counts(dropna=False)"
   ]
  },
  {
   "cell_type": "code",
   "execution_count": 5,
   "metadata": {
    "collapsed": false
   },
   "outputs": [
    {
     "data": {
      "text/plain": [
       "count     8.000000\n",
       "mean     36.875000\n",
       "std      10.494046\n",
       "min      19.000000\n",
       "25%      33.250000\n",
       "50%      38.500000\n",
       "75%      42.250000\n",
       "max      49.000000\n",
       "Name: age, dtype: float64"
      ]
     },
     "execution_count": 5,
     "metadata": {},
     "output_type": "execute_result"
    }
   ],
   "source": [
    "df[df.fare==0].age.describe()"
   ]
  },
  {
   "cell_type": "markdown",
   "metadata": {},
   "source": [
    "As they are not kids, lets replace their fare with the mean."
   ]
  },
  {
   "cell_type": "code",
   "execution_count": 6,
   "metadata": {
    "collapsed": true
   },
   "outputs": [],
   "source": [
    "df.fare = df.fare.apply(lambda x: 33 if pd.isnull(x) else x)"
   ]
  },
  {
   "cell_type": "code",
   "execution_count": 7,
   "metadata": {
    "collapsed": false
   },
   "outputs": [
    {
     "data": {
      "text/plain": [
       "S    914\n",
       "C    270\n",
       "Q    123\n",
       "Name: embarked, dtype: int64"
      ]
     },
     "execution_count": 7,
     "metadata": {},
     "output_type": "execute_result"
    }
   ],
   "source": [
    "df.embarked.value_counts(dropna=False)"
   ]
  },
  {
   "cell_type": "code",
   "execution_count": 8,
   "metadata": {
    "collapsed": false
   },
   "outputs": [],
   "source": [
    "df.age.describe()\n",
    "mean = 29.881135\n",
    "std_dev = 14.413500\n",
    "age_fillers = np.random.normal(mean, std_dev, 280)\n",
    "age_fillers = [i for i in age_fillers if i>0][:263]\n",
    "df['age1'] = df.age.apply(lambda x: age_fillers.pop() if np.isnan(x) else x)\n",
    "# df['age1'] = df.age.apply(lambda x: mean if np.isnan(x) else x)\n",
    "\n",
    "\n",
    "# df = df[pd.notnull(df['age'])]\n",
    "# df['age1'] = df.age"
   ]
  },
  {
   "cell_type": "code",
   "execution_count": 9,
   "metadata": {
    "collapsed": false
   },
   "outputs": [],
   "source": [
    "cat_columns = ['pclass', 'sex', 'embarked'] # embarked\n",
    "for cat_col in cat_columns:\n",
    "    df = df.join(pd.get_dummies(df[cat_col]))"
   ]
  },
  {
   "cell_type": "code",
   "execution_count": 10,
   "metadata": {
    "collapsed": false
   },
   "outputs": [],
   "source": [
    "from sklearn.model_selection import train_test_split"
   ]
  },
  {
   "cell_type": "code",
   "execution_count": 11,
   "metadata": {
    "collapsed": false
   },
   "outputs": [],
   "source": [
    "# from sklearn import tree\n",
    "# features = ['age1', 'firstClass', 'secondClass', 'thirdClass', 'sibsp', 'parch', 'fare', 'female', 'C', 'Q', 'S'] #, 'C', 'Q', 'S'\n",
    "# clf = tree.DecisionTreeClassifier(criterion='gini')\n",
    "# clf = clf.fit(df[features], df['survived'])"
   ]
  },
  {
   "cell_type": "code",
   "execution_count": 12,
   "metadata": {
    "collapsed": false
   },
   "outputs": [],
   "source": [
    "# tree.export_graphviz(clf, out_file='tree.dot')"
   ]
  },
  {
   "cell_type": "code",
   "execution_count": 13,
   "metadata": {
    "collapsed": false
   },
   "outputs": [],
   "source": [
    "# for feat in features:\n",
    "#     print(\"{}, from {}\".format(df[feat].isnull().sum(), feat))"
   ]
  },
  {
   "cell_type": "code",
   "execution_count": 14,
   "metadata": {
    "collapsed": false
   },
   "outputs": [
    {
     "data": {
      "text/html": [
       "<div>\n",
       "<table border=\"1\" class=\"dataframe\">\n",
       "  <thead>\n",
       "    <tr style=\"text-align: right;\">\n",
       "      <th></th>\n",
       "      <th>survived</th>\n",
       "      <th>pclass</th>\n",
       "      <th>sex</th>\n",
       "      <th>age</th>\n",
       "      <th>sibsp</th>\n",
       "      <th>parch</th>\n",
       "      <th>fare</th>\n",
       "      <th>embarked</th>\n",
       "      <th>age1</th>\n",
       "      <th>firstClass</th>\n",
       "      <th>secondClass</th>\n",
       "      <th>thirdClass</th>\n",
       "      <th>female</th>\n",
       "      <th>male</th>\n",
       "      <th>C</th>\n",
       "      <th>Q</th>\n",
       "      <th>S</th>\n",
       "    </tr>\n",
       "  </thead>\n",
       "  <tbody>\n",
       "    <tr>\n",
       "      <th>0</th>\n",
       "      <td>1</td>\n",
       "      <td>firstClass</td>\n",
       "      <td>female</td>\n",
       "      <td>29.0000</td>\n",
       "      <td>0</td>\n",
       "      <td>0</td>\n",
       "      <td>211.3375</td>\n",
       "      <td>S</td>\n",
       "      <td>29.0000</td>\n",
       "      <td>1</td>\n",
       "      <td>0</td>\n",
       "      <td>0</td>\n",
       "      <td>1</td>\n",
       "      <td>0</td>\n",
       "      <td>0</td>\n",
       "      <td>0</td>\n",
       "      <td>1</td>\n",
       "    </tr>\n",
       "    <tr>\n",
       "      <th>1</th>\n",
       "      <td>1</td>\n",
       "      <td>firstClass</td>\n",
       "      <td>male</td>\n",
       "      <td>0.9167</td>\n",
       "      <td>1</td>\n",
       "      <td>2</td>\n",
       "      <td>151.5500</td>\n",
       "      <td>S</td>\n",
       "      <td>0.9167</td>\n",
       "      <td>1</td>\n",
       "      <td>0</td>\n",
       "      <td>0</td>\n",
       "      <td>0</td>\n",
       "      <td>1</td>\n",
       "      <td>0</td>\n",
       "      <td>0</td>\n",
       "      <td>1</td>\n",
       "    </tr>\n",
       "    <tr>\n",
       "      <th>2</th>\n",
       "      <td>0</td>\n",
       "      <td>firstClass</td>\n",
       "      <td>female</td>\n",
       "      <td>2.0000</td>\n",
       "      <td>1</td>\n",
       "      <td>2</td>\n",
       "      <td>151.5500</td>\n",
       "      <td>S</td>\n",
       "      <td>2.0000</td>\n",
       "      <td>1</td>\n",
       "      <td>0</td>\n",
       "      <td>0</td>\n",
       "      <td>1</td>\n",
       "      <td>0</td>\n",
       "      <td>0</td>\n",
       "      <td>0</td>\n",
       "      <td>1</td>\n",
       "    </tr>\n",
       "    <tr>\n",
       "      <th>3</th>\n",
       "      <td>0</td>\n",
       "      <td>firstClass</td>\n",
       "      <td>male</td>\n",
       "      <td>30.0000</td>\n",
       "      <td>1</td>\n",
       "      <td>2</td>\n",
       "      <td>151.5500</td>\n",
       "      <td>S</td>\n",
       "      <td>30.0000</td>\n",
       "      <td>1</td>\n",
       "      <td>0</td>\n",
       "      <td>0</td>\n",
       "      <td>0</td>\n",
       "      <td>1</td>\n",
       "      <td>0</td>\n",
       "      <td>0</td>\n",
       "      <td>1</td>\n",
       "    </tr>\n",
       "    <tr>\n",
       "      <th>4</th>\n",
       "      <td>0</td>\n",
       "      <td>firstClass</td>\n",
       "      <td>female</td>\n",
       "      <td>25.0000</td>\n",
       "      <td>1</td>\n",
       "      <td>2</td>\n",
       "      <td>151.5500</td>\n",
       "      <td>S</td>\n",
       "      <td>25.0000</td>\n",
       "      <td>1</td>\n",
       "      <td>0</td>\n",
       "      <td>0</td>\n",
       "      <td>1</td>\n",
       "      <td>0</td>\n",
       "      <td>0</td>\n",
       "      <td>0</td>\n",
       "      <td>1</td>\n",
       "    </tr>\n",
       "  </tbody>\n",
       "</table>\n",
       "</div>"
      ],
      "text/plain": [
       "   survived      pclass     sex      age  sibsp  parch      fare embarked  \\\n",
       "0         1  firstClass  female  29.0000      0      0  211.3375        S   \n",
       "1         1  firstClass    male   0.9167      1      2  151.5500        S   \n",
       "2         0  firstClass  female   2.0000      1      2  151.5500        S   \n",
       "3         0  firstClass    male  30.0000      1      2  151.5500        S   \n",
       "4         0  firstClass  female  25.0000      1      2  151.5500        S   \n",
       "\n",
       "      age1  firstClass  secondClass  thirdClass  female  male  C  Q  S  \n",
       "0  29.0000           1            0           0       1     0  0  0  1  \n",
       "1   0.9167           1            0           0       0     1  0  0  1  \n",
       "2   2.0000           1            0           0       1     0  0  0  1  \n",
       "3  30.0000           1            0           0       0     1  0  0  1  \n",
       "4  25.0000           1            0           0       1     0  0  0  1  "
      ]
     },
     "execution_count": 14,
     "metadata": {},
     "output_type": "execute_result"
    }
   ],
   "source": [
    "df.head()"
   ]
  },
  {
   "cell_type": "code",
   "execution_count": 41,
   "metadata": {
    "collapsed": false
   },
   "outputs": [],
   "source": [
    "from DecisionTree import DecisionTree as Dt\n",
    "from DecisionTree import bagging, generate_trees, generate_simple_trees\n",
    "from sklearn.model_selection import train_test_split\n",
    "from time import time\n",
    "x_train, x_test, y_train, y_test = train_test_split(df.drop('survived', 1), df['survived'], test_size=0.2)\n",
    "x_train['survived']  = y_train\n",
    "x_test['survived'] = y_test\n",
    "\n",
    "features = ['sex', 'age1', 'pclass', 'fare', 'embarked', 'sibsp', 'parch']"
   ]
  },
  {
   "cell_type": "code",
   "execution_count": 42,
   "metadata": {
    "collapsed": false
   },
   "outputs": [
    {
     "name": "stdout",
     "output_type": "stream",
     "text": [
      "-347.81507182121277\n"
     ]
    }
   ],
   "source": [
    "now = time()\n",
    "\n",
    "trees = generate_simple_trees(x_train, features, 'survived', 15)\n",
    "print(now - time())"
   ]
  },
  {
   "cell_type": "code",
   "execution_count": 43,
   "metadata": {
    "collapsed": true
   },
   "outputs": [],
   "source": [
    "preds = bagging(x_train, x_test, features, 'survived', 9, trees)\n"
   ]
  },
  {
   "cell_type": "code",
   "execution_count": 44,
   "metadata": {
    "collapsed": false
   },
   "outputs": [
    {
     "name": "stdout",
     "output_type": "stream",
     "text": [
      "15\n",
      "262\n",
      "262\n",
      "262\n"
     ]
    }
   ],
   "source": [
    "print(len(trees))\n",
    "print(len(x_test))\n",
    "print(len(y_test))\n",
    "print(len(preds))"
   ]
  },
  {
   "cell_type": "code",
   "execution_count": 45,
   "metadata": {
    "collapsed": false
   },
   "outputs": [
    {
     "name": "stdout",
     "output_type": "stream",
     "text": [
      "0.797709923664\n"
     ]
    }
   ],
   "source": [
    "from sklearn.metrics import accuracy_score\n",
    "print(accuracy_score(y_test, preds))"
   ]
  },
  {
   "cell_type": "code",
   "execution_count": 31,
   "metadata": {
    "collapsed": false
   },
   "outputs": [
    {
     "data": {
      "text/plain": [
       "0    0.618975\n",
       "1    0.381025\n",
       "Name: survived, dtype: float64"
      ]
     },
     "execution_count": 31,
     "metadata": {},
     "output_type": "execute_result"
    }
   ],
   "source": [
    "df.survived.value_counts(normalize=True)"
   ]
  },
  {
   "cell_type": "code",
   "execution_count": 32,
   "metadata": {
    "collapsed": false
   },
   "outputs": [
    {
     "name": "stdout",
     "output_type": "stream",
     "text": [
      "0.732824427481\n"
     ]
    }
   ],
   "source": [
    "from sklearn import tree\n",
    "clf = tree.DecisionTreeClassifier(criterion='entropy')\n",
    "clf_feat = ['age1', 'firstClass', 'secondClass', 'thirdClass', 'sibsp', 'parch', 'fare', 'female', 'C', 'Q', 'S']\n",
    "clf = clf.fit(x_train[clf_feat], y_train)\n",
    "clf_preds = clf.predict(x_test[clf_feat])\n",
    "print(accuracy_score(y_test, clf_preds))"
   ]
  },
  {
   "cell_type": "code",
   "execution_count": 33,
   "metadata": {
    "collapsed": false
   },
   "outputs": [
    {
     "data": {
      "text/html": [
       "<div>\n",
       "<table border=\"1\" class=\"dataframe\">\n",
       "  <thead>\n",
       "    <tr style=\"text-align: right;\">\n",
       "      <th></th>\n",
       "      <th>pclass</th>\n",
       "      <th>sex</th>\n",
       "      <th>age</th>\n",
       "      <th>sibsp</th>\n",
       "      <th>parch</th>\n",
       "      <th>fare</th>\n",
       "      <th>embarked</th>\n",
       "      <th>age1</th>\n",
       "      <th>firstClass</th>\n",
       "      <th>secondClass</th>\n",
       "      <th>thirdClass</th>\n",
       "      <th>female</th>\n",
       "      <th>male</th>\n",
       "      <th>C</th>\n",
       "      <th>Q</th>\n",
       "      <th>S</th>\n",
       "      <th>survived</th>\n",
       "    </tr>\n",
       "  </thead>\n",
       "  <tbody>\n",
       "    <tr>\n",
       "      <th>637</th>\n",
       "      <td>thirdClass</td>\n",
       "      <td>male</td>\n",
       "      <td>24.0</td>\n",
       "      <td>0</td>\n",
       "      <td>0</td>\n",
       "      <td>7.775</td>\n",
       "      <td>S</td>\n",
       "      <td>24.000000</td>\n",
       "      <td>0</td>\n",
       "      <td>0</td>\n",
       "      <td>1</td>\n",
       "      <td>0</td>\n",
       "      <td>1</td>\n",
       "      <td>0</td>\n",
       "      <td>0</td>\n",
       "      <td>1</td>\n",
       "      <td>0</td>\n",
       "    </tr>\n",
       "    <tr>\n",
       "      <th>1200</th>\n",
       "      <td>thirdClass</td>\n",
       "      <td>male</td>\n",
       "      <td>NaN</td>\n",
       "      <td>0</td>\n",
       "      <td>0</td>\n",
       "      <td>8.050</td>\n",
       "      <td>S</td>\n",
       "      <td>27.222690</td>\n",
       "      <td>0</td>\n",
       "      <td>0</td>\n",
       "      <td>1</td>\n",
       "      <td>0</td>\n",
       "      <td>1</td>\n",
       "      <td>0</td>\n",
       "      <td>0</td>\n",
       "      <td>1</td>\n",
       "      <td>0</td>\n",
       "    </tr>\n",
       "    <tr>\n",
       "      <th>1176</th>\n",
       "      <td>thirdClass</td>\n",
       "      <td>male</td>\n",
       "      <td>NaN</td>\n",
       "      <td>8</td>\n",
       "      <td>2</td>\n",
       "      <td>69.550</td>\n",
       "      <td>S</td>\n",
       "      <td>29.398208</td>\n",
       "      <td>0</td>\n",
       "      <td>0</td>\n",
       "      <td>1</td>\n",
       "      <td>0</td>\n",
       "      <td>1</td>\n",
       "      <td>0</td>\n",
       "      <td>0</td>\n",
       "      <td>1</td>\n",
       "      <td>0</td>\n",
       "    </tr>\n",
       "    <tr>\n",
       "      <th>579</th>\n",
       "      <td>secondClass</td>\n",
       "      <td>male</td>\n",
       "      <td>23.0</td>\n",
       "      <td>1</td>\n",
       "      <td>0</td>\n",
       "      <td>10.500</td>\n",
       "      <td>S</td>\n",
       "      <td>23.000000</td>\n",
       "      <td>0</td>\n",
       "      <td>1</td>\n",
       "      <td>0</td>\n",
       "      <td>0</td>\n",
       "      <td>1</td>\n",
       "      <td>0</td>\n",
       "      <td>0</td>\n",
       "      <td>1</td>\n",
       "      <td>0</td>\n",
       "    </tr>\n",
       "    <tr>\n",
       "      <th>636</th>\n",
       "      <td>thirdClass</td>\n",
       "      <td>female</td>\n",
       "      <td>18.0</td>\n",
       "      <td>1</td>\n",
       "      <td>0</td>\n",
       "      <td>17.800</td>\n",
       "      <td>S</td>\n",
       "      <td>18.000000</td>\n",
       "      <td>0</td>\n",
       "      <td>0</td>\n",
       "      <td>1</td>\n",
       "      <td>1</td>\n",
       "      <td>0</td>\n",
       "      <td>0</td>\n",
       "      <td>0</td>\n",
       "      <td>1</td>\n",
       "      <td>0</td>\n",
       "    </tr>\n",
       "  </tbody>\n",
       "</table>\n",
       "</div>"
      ],
      "text/plain": [
       "           pclass     sex   age  sibsp  parch    fare embarked       age1  \\\n",
       "637    thirdClass    male  24.0      0      0   7.775        S  24.000000   \n",
       "1200   thirdClass    male   NaN      0      0   8.050        S  27.222690   \n",
       "1176   thirdClass    male   NaN      8      2  69.550        S  29.398208   \n",
       "579   secondClass    male  23.0      1      0  10.500        S  23.000000   \n",
       "636    thirdClass  female  18.0      1      0  17.800        S  18.000000   \n",
       "\n",
       "      firstClass  secondClass  thirdClass  female  male  C  Q  S  survived  \n",
       "637            0            0           1       0     1  0  0  1         0  \n",
       "1200           0            0           1       0     1  0  0  1         0  \n",
       "1176           0            0           1       0     1  0  0  1         0  \n",
       "579            0            1           0       0     1  0  0  1         0  \n",
       "636            0            0           1       1     0  0  0  1         0  "
      ]
     },
     "execution_count": 33,
     "metadata": {},
     "output_type": "execute_result"
    }
   ],
   "source": [
    "x_train.head()"
   ]
  },
  {
   "cell_type": "code",
   "execution_count": 34,
   "metadata": {
    "collapsed": false
   },
   "outputs": [
    {
     "name": "stdout",
     "output_type": "stream",
     "text": [
      "0.709923664122\n"
     ]
    }
   ],
   "source": [
    "dt = Dt()\n",
    "dt.fit(x_train[features], y_train)\n",
    "predictions = dt.predict(x_test[features])\n",
    "print(accuracy_score(y_test, predictions))"
   ]
  },
  {
   "cell_type": "markdown",
   "metadata": {
    "collapsed": true
   },
   "source": [
    "age with random\n",
    "we - 76\n",
    "sk - 79\n",
    "bg - 81,6"
   ]
  },
  {
   "cell_type": "code",
   "execution_count": 35,
   "metadata": {
    "collapsed": false
   },
   "outputs": [],
   "source": [
    "from sklearn.model_selection import cross_val_score\n",
    "clf = tree.DecisionTreeClassifier(criterion='entropy')\n",
    "scores = cross_val_score(clf, df[clf_feat], df['survived'], cv=10)"
   ]
  },
  {
   "cell_type": "code",
   "execution_count": 36,
   "metadata": {
    "collapsed": false
   },
   "outputs": [
    {
     "data": {
      "text/plain": [
       "0.69843431791594413"
      ]
     },
     "execution_count": 36,
     "metadata": {},
     "output_type": "execute_result"
    }
   ],
   "source": [
    "scores.mean()"
   ]
  },
  {
   "cell_type": "code",
   "execution_count": 37,
   "metadata": {
    "collapsed": false
   },
   "outputs": [
    {
     "data": {
      "text/plain": [
       "array([ 0.65648855,  0.77862595,  0.78625954,  0.74045802,  0.75572519,\n",
       "        0.72519084,  0.6870229 ,  0.58778626,  0.58461538,  0.68217054])"
      ]
     },
     "execution_count": 37,
     "metadata": {},
     "output_type": "execute_result"
    }
   ],
   "source": [
    "scores"
   ]
  },
  {
   "cell_type": "code",
   "execution_count": 38,
   "metadata": {
    "collapsed": false
   },
   "outputs": [],
   "source": [
    "from sklearn.model_selection import KFold\n",
    "def cross_val(classifier, data, target, num_iter):\n",
    "    accus = []\n",
    "    label = target.name\n",
    "    data[label] = target.values\n",
    "    frac = 1 / float(num_iter)\n",
    "    for i in range(0, num_iter):\n",
    "        from_ix = i*frac\n",
    "        to_ix = from_ix + frac\n",
    "        split_ix = data.index[int(len(data)*from_ix):int(len(data)*to_ix)]\n",
    "        train = data.drop(split_ix)\n",
    "        test=data.drop(train.index)\n",
    "        classifier.fit(train.drop(label, 1), train[label])\n",
    "        predictions = classifier.predict(test.drop(label, 1))\n",
    "        acc = accuracy_score(test[label], predictions)\n",
    "        accus.append(acc)\n",
    "    return accus"
   ]
  },
  {
   "cell_type": "code",
   "execution_count": 39,
   "metadata": {
    "collapsed": false
   },
   "outputs": [],
   "source": [
    "scoreas = cross_val(Dt(), df[features], df['survived'], 10)"
   ]
  },
  {
   "cell_type": "code",
   "execution_count": 40,
   "metadata": {
    "collapsed": false
   },
   "outputs": [
    {
     "data": {
      "text/plain": [
       "0.72003523194362873"
      ]
     },
     "execution_count": 40,
     "metadata": {},
     "output_type": "execute_result"
    }
   ],
   "source": [
    "np.mean(scoreas)"
   ]
  }
 ],
 "metadata": {
  "anaconda-cloud": {},
  "kernelspec": {
   "display_name": "Python [conda root]",
   "language": "python",
   "name": "conda-root-py"
  },
  "language_info": {
   "codemirror_mode": {
    "name": "ipython",
    "version": 2
   },
   "file_extension": ".py",
   "mimetype": "text/x-python",
   "name": "python",
   "nbconvert_exporter": "python",
   "pygments_lexer": "ipython2",
   "version": "2.7.12"
  }
 },
 "nbformat": 4,
 "nbformat_minor": 1
}
