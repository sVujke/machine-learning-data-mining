{
 "cells": [
  {
   "cell_type": "markdown",
   "metadata": {},
   "source": [
    "# MLDM Group Assignment\n",
    "### Members: Brigitte Aznar, Daniel Kostic and Stefan Vujovic"
   ]
  },
  {
   "cell_type": "markdown",
   "metadata": {},
   "source": [
    "Data explanation:\n",
    "\n",
    "survival        Survival\n",
    "                (0 = No; 1 = Yes)\n",
    "                \n",
    "pclass          Passenger Class\n",
    "                (1 = 1st; 2 = 2nd; 3 = 3rd)\n",
    "                \n",
    "name            Name\n",
    "\n",
    "sex             Sex\n",
    "\n",
    "age             Age\n",
    "\n",
    "sibsp           Number of Siblings/Spouses Aboard\n",
    "\n",
    "parch           Number of Parents/Children Aboard\n",
    "\n",
    "ticket          Ticket Number\n",
    "\n",
    "fare            Passenger Fare\n",
    "\n",
    "cabin           Cabin\n",
    "\n",
    "embarked        Port of Embarkation\n",
    "                (C = Cherbourg; Q = Queenstown; S = Southampton)\n"
   ]
  },
  {
   "cell_type": "markdown",
   "metadata": {},
   "source": [
    "## Task 1: Preprocessing and data analysis"
   ]
  },
  {
   "cell_type": "code",
   "execution_count": 1,
   "metadata": {
    "collapsed": false
   },
   "outputs": [],
   "source": [
    "import pandas as pd\n",
    "pd.options.mode.chained_assignment = None  # default='warn'\n",
    "import numpy as np\n",
    "df = pd.read_csv('data.csv', index_col=0)"
   ]
  },
  {
   "cell_type": "code",
   "execution_count": 2,
   "metadata": {
    "collapsed": false
   },
   "outputs": [
    {
     "data": {
      "text/html": [
       "<div>\n",
       "<table border=\"1\" class=\"dataframe\">\n",
       "  <thead>\n",
       "    <tr style=\"text-align: right;\">\n",
       "      <th></th>\n",
       "      <th>survived</th>\n",
       "      <th>pclass</th>\n",
       "      <th>sex</th>\n",
       "      <th>age</th>\n",
       "      <th>sibsp</th>\n",
       "      <th>parch</th>\n",
       "      <th>fare</th>\n",
       "      <th>embarked</th>\n",
       "    </tr>\n",
       "  </thead>\n",
       "  <tbody>\n",
       "    <tr>\n",
       "      <th>0</th>\n",
       "      <td>1</td>\n",
       "      <td>firstClass</td>\n",
       "      <td>female</td>\n",
       "      <td>29.0000</td>\n",
       "      <td>0</td>\n",
       "      <td>0</td>\n",
       "      <td>211.3375</td>\n",
       "      <td>S</td>\n",
       "    </tr>\n",
       "    <tr>\n",
       "      <th>1</th>\n",
       "      <td>1</td>\n",
       "      <td>firstClass</td>\n",
       "      <td>male</td>\n",
       "      <td>0.9167</td>\n",
       "      <td>1</td>\n",
       "      <td>2</td>\n",
       "      <td>151.5500</td>\n",
       "      <td>S</td>\n",
       "    </tr>\n",
       "    <tr>\n",
       "      <th>2</th>\n",
       "      <td>0</td>\n",
       "      <td>firstClass</td>\n",
       "      <td>female</td>\n",
       "      <td>2.0000</td>\n",
       "      <td>1</td>\n",
       "      <td>2</td>\n",
       "      <td>151.5500</td>\n",
       "      <td>S</td>\n",
       "    </tr>\n",
       "    <tr>\n",
       "      <th>3</th>\n",
       "      <td>0</td>\n",
       "      <td>firstClass</td>\n",
       "      <td>male</td>\n",
       "      <td>30.0000</td>\n",
       "      <td>1</td>\n",
       "      <td>2</td>\n",
       "      <td>151.5500</td>\n",
       "      <td>S</td>\n",
       "    </tr>\n",
       "    <tr>\n",
       "      <th>4</th>\n",
       "      <td>0</td>\n",
       "      <td>firstClass</td>\n",
       "      <td>female</td>\n",
       "      <td>25.0000</td>\n",
       "      <td>1</td>\n",
       "      <td>2</td>\n",
       "      <td>151.5500</td>\n",
       "      <td>S</td>\n",
       "    </tr>\n",
       "  </tbody>\n",
       "</table>\n",
       "</div>"
      ],
      "text/plain": [
       "   survived      pclass     sex      age  sibsp  parch      fare embarked\n",
       "0         1  firstClass  female  29.0000      0      0  211.3375        S\n",
       "1         1  firstClass    male   0.9167      1      2  151.5500        S\n",
       "2         0  firstClass  female   2.0000      1      2  151.5500        S\n",
       "3         0  firstClass    male  30.0000      1      2  151.5500        S\n",
       "4         0  firstClass  female  25.0000      1      2  151.5500        S"
      ]
     },
     "execution_count": 2,
     "metadata": {},
     "output_type": "execute_result"
    }
   ],
   "source": [
    "def makeClass(x):\n",
    "    if x==1: return \"firstClass\"\n",
    "    elif x==2: return \"secondClass\"\n",
    "    else: return \"thirdClass\"\n",
    "df['pclass'] = df.pclass.apply(lambda x: makeClass(x))\n",
    "df.head()"
   ]
  },
  {
   "cell_type": "code",
   "execution_count": 3,
   "metadata": {
    "collapsed": false
   },
   "outputs": [],
   "source": [
    "import matplotlib.pylab as plt\n",
    "def proportion_df(discrete_val):\n",
    "    by_var = df.groupby([discrete_val,'survived'])\n",
    "    freq_table = by_var.size()\n",
    "    freq_table = freq_table.unstack()\n",
    "    freq_table = freq_table.div(freq_table.sum(1), axis=0)\n",
    "    return freq_table"
   ]
  },
  {
   "cell_type": "code",
   "execution_count": 4,
   "metadata": {
    "collapsed": false
   },
   "outputs": [
    {
     "data": {
      "image/png": "[encoded data removed]",
      "text/plain": [
       "<matplotlib.figure.Figure at 0x1af8dda4cc0>"
      ]
     },
     "metadata": {},
     "output_type": "display_data"
    }
   ],
   "source": [
    "value_list = ['embarked','sex','pclass']\n",
    "canvas, axes1 = plt.subplots(len(value_list),1)\n",
    "for val in value_list:\n",
    "    freq_table = proportion_df(val)\n",
    "    colorsheme = ['red','blue']\n",
    "    freq_table.plot(kind='barh', stacked=True, ax=axes1[value_list.index(val)], color=colorsheme)\n",
    "plt.show()"
   ]
  },
  {
   "cell_type": "markdown",
   "metadata": {},
   "source": [
    "Looking at these plots we can see that it is much more likely for a female to survive. Furthermore,\n",
    "we can see that the passanger class has an impact on survival, the lower the class, the lower probability of survival.\n",
    "The people who embark at Cherbourg have most chances of survival, much better than people from Queenstown and Southampton. "
   ]
  },
  {
   "cell_type": "code",
   "execution_count": 5,
   "metadata": {
    "collapsed": true
   },
   "outputs": [],
   "source": [
    "by_var = df.groupby([\"sex\",'pclass','embarked','survived'])\n",
    "freq_table = by_var.size()\n",
    "freq_table = freq_table.unstack()\n",
    "freq_table = freq_table.div(freq_table.sum(1), axis=0)"
   ]
  },
  {
   "cell_type": "code",
   "execution_count": 6,
   "metadata": {
    "collapsed": true
   },
   "outputs": [],
   "source": [
    "classes = ['firstClass','secondClass','thirdClass']\n",
    "def plot_by_sex_and_class(df,sex,class_list):\n",
    "    sex = freq_table.loc[sex]\n",
    "    canvas, axes1 = plt.subplots(len(class_list),1)\n",
    "    for c in class_list:\n",
    "        tbl = sex.loc[c]\n",
    "        colorsheme = ['red','blue']\n",
    "        tbl.plot(kind='barh', stacked=True, ax=axes1[class_list.index(c)], color=colorsheme, title=str(c))\n",
    "    canvas.tight_layout()   \n",
    "    plt.show()"
   ]
  },
  {
   "cell_type": "code",
   "execution_count": 7,
   "metadata": {
    "collapsed": false
   },
   "outputs": [
    {
     "data": {
      "image/png": "[encoded data removed]",
      "text/plain": [
       "<matplotlib.figure.Figure at 0x1af8e296cc0>"
      ]
     },
     "metadata": {},
     "output_type": "display_data"
    }
   ],
   "source": [
    "plot_by_sex_and_class(freq_table, 'male', classes)"
   ]
  },
  {
   "cell_type": "markdown",
   "metadata": {},
   "source": [
    "Here, we can see that males who embarked in Queenstown have the best chances of survival."
   ]
  },
  {
   "cell_type": "code",
   "execution_count": 8,
   "metadata": {
    "collapsed": false,
    "scrolled": true
   },
   "outputs": [
    {
     "data": {
      "image/png": "[encoded data removed]",
      "text/plain": [
       "<matplotlib.figure.Figure at 0x1af8f7f2f98>"
      ]
     },
     "metadata": {},
     "output_type": "display_data"
    }
   ],
   "source": [
    "plot_by_sex_and_class(freq_table, 'female', classes)"
   ]
  },
  {
   "cell_type": "markdown",
   "metadata": {},
   "source": [
    "Here we can see that women that travel in third class have significantly less chances of survival. Also, women who embarked in Southampton and are traveling in any class have the lowest survival rate. "
   ]
  },
  {
   "cell_type": "code",
   "execution_count": 9,
   "metadata": {
    "collapsed": false
   },
   "outputs": [
    {
     "data": {
      "image/png": "[encoded data removed]",
      "text/plain": [
       "<matplotlib.figure.Figure at 0x1af8f7c3668>"
      ]
     },
     "metadata": {},
     "output_type": "display_data"
    }
   ],
   "source": [
    "bins = [0,5,18, 25, 40, 60, 100]\n",
    "binNames =['Young Child', 'Child', 'Young Adult', 'Adult', 'Middle Aged', 'Older']\n",
    "binAge = pd.cut(df.age, bins, labels=binNames)\n",
    "binAge\n",
    "\n",
    "group = df.groupby([binAge, 'sex', 'survived'])\n",
    "group = group.size().unstack()\n",
    "group = group.div(group.sum(1), axis=0)\n",
    "colorsheme = ['red','blue']\n",
    "ax = group.plot(kind='barh', stacked=True, color=colorsheme)\n",
    "plt.show()"
   ]
  },
  {
   "cell_type": "markdown",
   "metadata": {},
   "source": [
    "When we look at the sex and age, we can see that the older the men are, the smaller the chances of survival are. It is vice versa for women. "
   ]
  },
  {
   "cell_type": "markdown",
   "metadata": {},
   "source": [
    "## Preprocesing the data\n",
    "### What is the age/class of persons whose fare is 0? Are they babies/kids?"
   ]
  },
  {
   "cell_type": "code",
   "execution_count": 10,
   "metadata": {
    "collapsed": false
   },
   "outputs": [
    {
     "data": {
      "text/plain": [
       "NaN      9\n",
       " 49.0    2\n",
       " 25.0    1\n",
       " 36.0    1\n",
       " 19.0    1\n",
       " 38.0    1\n",
       " 40.0    1\n",
       " 39.0    1\n",
       "Name: age, dtype: int64"
      ]
     },
     "execution_count": 10,
     "metadata": {},
     "output_type": "execute_result"
    }
   ],
   "source": [
    "df[df.fare==0].age.value_counts(dropna=False)"
   ]
  },
  {
   "cell_type": "code",
   "execution_count": 11,
   "metadata": {
    "collapsed": false
   },
   "outputs": [
    {
     "data": {
      "text/plain": [
       "count     8.000000\n",
       "mean     36.875000\n",
       "std      10.494046\n",
       "min      19.000000\n",
       "25%      33.250000\n",
       "50%      38.500000\n",
       "75%      42.250000\n",
       "max      49.000000\n",
       "Name: age, dtype: float64"
      ]
     },
     "execution_count": 11,
     "metadata": {},
     "output_type": "execute_result"
    }
   ],
   "source": [
    "df[df.fare==0].age.describe()"
   ]
  },
  {
   "cell_type": "markdown",
   "metadata": {},
   "source": [
    "As they are not kids, lets replace their fare with the mean."
   ]
  },
  {
   "cell_type": "code",
   "execution_count": 12,
   "metadata": {
    "collapsed": true
   },
   "outputs": [],
   "source": [
    "df.fare.describe()\n",
    "mean = df.fare.describe()['mean']\n",
    "df.fare = df.fare.apply(lambda x: mean if pd.isnull(x) else x)"
   ]
  },
  {
   "cell_type": "code",
   "execution_count": 13,
   "metadata": {
    "collapsed": false
   },
   "outputs": [
    {
     "data": {
      "text/plain": [
       "S    914\n",
       "C    270\n",
       "Q    123\n",
       "Name: embarked, dtype: int64"
      ]
     },
     "execution_count": 13,
     "metadata": {},
     "output_type": "execute_result"
    }
   ],
   "source": [
    "# Checking for null values in embarked\n",
    "df = df[pd.notnull(df['embarked'])]\n",
    "df.embarked.value_counts(dropna=False)"
   ]
  },
  {
   "cell_type": "markdown",
   "metadata": {},
   "source": [
    "### Null values in age column"
   ]
  },
  {
   "cell_type": "code",
   "execution_count": 14,
   "metadata": {
    "collapsed": false,
    "scrolled": true
   },
   "outputs": [
    {
     "data": {
      "text/plain": [
       "NaN      263\n",
       " 24.0     47\n",
       " 22.0     43\n",
       " 21.0     41\n",
       " 30.0     40\n",
       "Name: age, dtype: int64"
      ]
     },
     "execution_count": 14,
     "metadata": {},
     "output_type": "execute_result"
    }
   ],
   "source": [
    "ser = df.age.value_counts(dropna=False)\n",
    "ser.head()"
   ]
  },
  {
   "cell_type": "code",
   "execution_count": 15,
   "metadata": {
    "collapsed": false
   },
   "outputs": [],
   "source": [
    "mean = df.age.describe()['mean']\n",
    "df['age1'] = df.age.apply(lambda x: mean if np.isnan(x) else x)"
   ]
  },
  {
   "cell_type": "code",
   "execution_count": 16,
   "metadata": {
    "collapsed": false
   },
   "outputs": [],
   "source": [
    "cat_columns = ['pclass', 'sex', 'embarked'] # embarked\n",
    "for cat_col in cat_columns:\n",
    "    df = df.join(pd.get_dummies(df[cat_col]))"
   ]
  },
  {
   "cell_type": "code",
   "execution_count": null,
   "metadata": {
    "collapsed": false
   },
   "outputs": [],
   "source": []
  },
  {
   "cell_type": "code",
   "execution_count": 17,
   "metadata": {
    "collapsed": false
   },
   "outputs": [],
   "source": [
    "# for feat in features:\n",
    "#     print(\"{}, from {}\".format(df[feat].isnull().sum(), feat))"
   ]
  },
  {
   "cell_type": "code",
   "execution_count": 18,
   "metadata": {
    "collapsed": false
   },
   "outputs": [
    {
     "data": {
      "text/html": [
       "<div>\n",
       "<table border=\"1\" class=\"dataframe\">\n",
       "  <thead>\n",
       "    <tr style=\"text-align: right;\">\n",
       "      <th></th>\n",
       "      <th>survived</th>\n",
       "      <th>pclass</th>\n",
       "      <th>sex</th>\n",
       "      <th>age</th>\n",
       "      <th>sibsp</th>\n",
       "      <th>parch</th>\n",
       "      <th>fare</th>\n",
       "      <th>embarked</th>\n",
       "      <th>age1</th>\n",
       "      <th>firstClass</th>\n",
       "      <th>secondClass</th>\n",
       "      <th>thirdClass</th>\n",
       "      <th>female</th>\n",
       "      <th>male</th>\n",
       "      <th>C</th>\n",
       "      <th>Q</th>\n",
       "      <th>S</th>\n",
       "    </tr>\n",
       "  </thead>\n",
       "  <tbody>\n",
       "    <tr>\n",
       "      <th>0</th>\n",
       "      <td>1</td>\n",
       "      <td>firstClass</td>\n",
       "      <td>female</td>\n",
       "      <td>29.0000</td>\n",
       "      <td>0</td>\n",
       "      <td>0</td>\n",
       "      <td>211.3375</td>\n",
       "      <td>S</td>\n",
       "      <td>29.0000</td>\n",
       "      <td>1</td>\n",
       "      <td>0</td>\n",
       "      <td>0</td>\n",
       "      <td>1</td>\n",
       "      <td>0</td>\n",
       "      <td>0</td>\n",
       "      <td>0</td>\n",
       "      <td>1</td>\n",
       "    </tr>\n",
       "    <tr>\n",
       "      <th>1</th>\n",
       "      <td>1</td>\n",
       "      <td>firstClass</td>\n",
       "      <td>male</td>\n",
       "      <td>0.9167</td>\n",
       "      <td>1</td>\n",
       "      <td>2</td>\n",
       "      <td>151.5500</td>\n",
       "      <td>S</td>\n",
       "      <td>0.9167</td>\n",
       "      <td>1</td>\n",
       "      <td>0</td>\n",
       "      <td>0</td>\n",
       "      <td>0</td>\n",
       "      <td>1</td>\n",
       "      <td>0</td>\n",
       "      <td>0</td>\n",
       "      <td>1</td>\n",
       "    </tr>\n",
       "    <tr>\n",
       "      <th>2</th>\n",
       "      <td>0</td>\n",
       "      <td>firstClass</td>\n",
       "      <td>female</td>\n",
       "      <td>2.0000</td>\n",
       "      <td>1</td>\n",
       "      <td>2</td>\n",
       "      <td>151.5500</td>\n",
       "      <td>S</td>\n",
       "      <td>2.0000</td>\n",
       "      <td>1</td>\n",
       "      <td>0</td>\n",
       "      <td>0</td>\n",
       "      <td>1</td>\n",
       "      <td>0</td>\n",
       "      <td>0</td>\n",
       "      <td>0</td>\n",
       "      <td>1</td>\n",
       "    </tr>\n",
       "    <tr>\n",
       "      <th>3</th>\n",
       "      <td>0</td>\n",
       "      <td>firstClass</td>\n",
       "      <td>male</td>\n",
       "      <td>30.0000</td>\n",
       "      <td>1</td>\n",
       "      <td>2</td>\n",
       "      <td>151.5500</td>\n",
       "      <td>S</td>\n",
       "      <td>30.0000</td>\n",
       "      <td>1</td>\n",
       "      <td>0</td>\n",
       "      <td>0</td>\n",
       "      <td>0</td>\n",
       "      <td>1</td>\n",
       "      <td>0</td>\n",
       "      <td>0</td>\n",
       "      <td>1</td>\n",
       "    </tr>\n",
       "    <tr>\n",
       "      <th>4</th>\n",
       "      <td>0</td>\n",
       "      <td>firstClass</td>\n",
       "      <td>female</td>\n",
       "      <td>25.0000</td>\n",
       "      <td>1</td>\n",
       "      <td>2</td>\n",
       "      <td>151.5500</td>\n",
       "      <td>S</td>\n",
       "      <td>25.0000</td>\n",
       "      <td>1</td>\n",
       "      <td>0</td>\n",
       "      <td>0</td>\n",
       "      <td>1</td>\n",
       "      <td>0</td>\n",
       "      <td>0</td>\n",
       "      <td>0</td>\n",
       "      <td>1</td>\n",
       "    </tr>\n",
       "  </tbody>\n",
       "</table>\n",
       "</div>"
      ],
      "text/plain": [
       "   survived      pclass     sex      age  sibsp  parch      fare embarked  \\\n",
       "0         1  firstClass  female  29.0000      0      0  211.3375        S   \n",
       "1         1  firstClass    male   0.9167      1      2  151.5500        S   \n",
       "2         0  firstClass  female   2.0000      1      2  151.5500        S   \n",
       "3         0  firstClass    male  30.0000      1      2  151.5500        S   \n",
       "4         0  firstClass  female  25.0000      1      2  151.5500        S   \n",
       "\n",
       "      age1  firstClass  secondClass  thirdClass  female  male  C  Q  S  \n",
       "0  29.0000           1            0           0       1     0  0  0  1  \n",
       "1   0.9167           1            0           0       0     1  0  0  1  \n",
       "2   2.0000           1            0           0       1     0  0  0  1  \n",
       "3  30.0000           1            0           0       0     1  0  0  1  \n",
       "4  25.0000           1            0           0       1     0  0  0  1  "
      ]
     },
     "execution_count": 18,
     "metadata": {},
     "output_type": "execute_result"
    }
   ],
   "source": [
    "df.head()"
   ]
  },
  {
   "cell_type": "markdown",
   "metadata": {},
   "source": [
    "## Task 2: Prediction\n",
    "### Split test and train"
   ]
  },
  {
   "cell_type": "code",
   "execution_count": 19,
   "metadata": {
    "collapsed": false
   },
   "outputs": [],
   "source": [
    "from sklearn.model_selection import train_test_split\n",
    "from time import time\n",
    "x_train, x_test, y_train, y_test = train_test_split(df.drop('survived', 1), df['survived'], test_size=0.2, stratify=df['survived'])\n",
    "x_train['survived']  = y_train\n",
    "x_test['survived'] = y_test"
   ]
  },
  {
   "cell_type": "code",
   "execution_count": 20,
   "metadata": {
    "collapsed": false
   },
   "outputs": [
    {
     "name": "stdout",
     "output_type": "stream",
     "text": [
      "0.782442748092\n"
     ]
    }
   ],
   "source": [
    "from sklearn import tree\n",
    "from sklearn.metrics import accuracy_score\n",
    "clf = tree.DecisionTreeClassifier(criterion='entropy')\n",
    "clf_feat = ['age1', 'firstClass', 'secondClass', 'thirdClass', 'sibsp', 'parch', 'fare', 'female', 'C', 'Q', 'S']\n",
    "clf = clf.fit(x_train[clf_feat], y_train)\n",
    "clf_preds = clf.predict(x_test[clf_feat])\n",
    "\n",
    "results = {}\n",
    "results['init_sk'] = accuracy_score(y_test, clf_preds)\n",
    "print(results['init_sk'])"
   ]
  },
  {
   "cell_type": "markdown",
   "metadata": {},
   "source": [
    "### Cross Validation with scikit"
   ]
  },
  {
   "cell_type": "code",
   "execution_count": 21,
   "metadata": {
    "collapsed": false
   },
   "outputs": [
    {
     "name": "stdout",
     "output_type": "stream",
     "text": [
      "0.714529535202\n"
     ]
    }
   ],
   "source": [
    "from sklearn.model_selection import cross_val_score\n",
    "# clf = tree.DecisionTreeClassifier(criterion='entropy')\n",
    "scores = cross_val_score(clf, df[clf_feat], df['survived'], cv=10)\n",
    "results['cv_sk'] = np.mean(scores)\n",
    "print(results['cv_sk'])"
   ]
  },
  {
   "cell_type": "markdown",
   "metadata": {},
   "source": [
    "### Parameter Grid search with scikit"
   ]
  },
  {
   "cell_type": "code",
   "execution_count": 22,
   "metadata": {
    "collapsed": false
   },
   "outputs": [
    {
     "name": "stdout",
     "output_type": "stream",
     "text": [
      "Best parameters set found on development set:\n",
      "\n",
      "{'min_samples_split': 4, 'max_depth': 10, 'min_samples_leaf': 8}\n",
      "\n",
      "Grid scores on development set:\n",
      "\n",
      "0.755036980362\n"
     ]
    }
   ],
   "source": [
    "from sklearn.model_selection import GridSearchCV\n",
    "tuned_parameters = [{'max_depth': [5,10,12,14,15,20], 'min_samples_split': [2,3,4],\n",
    "                     'min_samples_leaf': [5, 6, 8, 10, 15]}]\n",
    "gs_cv = GridSearchCV(tree.DecisionTreeClassifier(criterion='entropy'), tuned_parameters, cv=10)\n",
    "gs_cv.fit(df[clf_feat], df['survived'])\n",
    "\n",
    "best_params = gs_cv.best_params_\n",
    "\n",
    "print(\"Best parameters set found on development set:\")\n",
    "print()\n",
    "print(gs_cv.best_params_)\n",
    "print()\n",
    "print(\"Grid scores on development set:\")\n",
    "print()\n",
    "means = gs_cv.cv_results_['mean_test_score']\n",
    "\n",
    "results['pg_cv_sk'] = np.mean(means)\n",
    "print (results['pg_cv_sk'])"
   ]
  },
  {
   "cell_type": "markdown",
   "metadata": {},
   "source": [
    "### Apply the best parameters on out test/train split"
   ]
  },
  {
   "cell_type": "code",
   "execution_count": 23,
   "metadata": {
    "collapsed": false
   },
   "outputs": [
    {
     "name": "stdout",
     "output_type": "stream",
     "text": [
      "0.835877862595\n"
     ]
    }
   ],
   "source": [
    "clf = tree.DecisionTreeClassifier(criterion='entropy', **best_params)\n",
    "clf = clf.fit(x_train[clf_feat], y_train)\n",
    "clf_preds = clf.predict(x_test[clf_feat])\n",
    "\n",
    "results['init_sk_bp'] = accuracy_score(y_test, clf_preds)\n",
    "print(results['init_sk_bp'])"
   ]
  },
  {
   "cell_type": "markdown",
   "metadata": {},
   "source": [
    "### Baseline comparison"
   ]
  },
  {
   "cell_type": "code",
   "execution_count": 24,
   "metadata": {
    "collapsed": false
   },
   "outputs": [
    {
     "data": {
      "text/plain": [
       "0    0.618975\n",
       "1    0.381025\n",
       "Name: survived, dtype: float64"
      ]
     },
     "execution_count": 24,
     "metadata": {},
     "output_type": "execute_result"
    }
   ],
   "source": [
    "df.survived.value_counts(normalize=True)"
   ]
  },
  {
   "cell_type": "code",
   "execution_count": 25,
   "metadata": {
    "collapsed": true
   },
   "outputs": [],
   "source": [
    "# Export graph\n",
    "tree.export_graphviz(clf, out_file='tree.dot')"
   ]
  },
  {
   "cell_type": "code",
   "execution_count": 26,
   "metadata": {
    "collapsed": true
   },
   "outputs": [],
   "source": [
    "# Feature importance discussion"
   ]
  },
  {
   "cell_type": "markdown",
   "metadata": {},
   "source": [
    "## Task 3: Implement your own Decision Tree Classifier"
   ]
  },
  {
   "cell_type": "code",
   "execution_count": 27,
   "metadata": {
    "collapsed": true
   },
   "outputs": [],
   "source": [
    "from sklearn.metrics import accuracy_score\n",
    "def split_dataset(dataset, column, value):\n",
    "    if isinstance(value,int) or isinstance(value,float):\n",
    "        df1 = dataset[dataset[column]>=value]\n",
    "        df2 = dataset[dataset[column]< value]\n",
    "    else:\n",
    "        df1 = dataset[dataset[column]== value]\n",
    "        df2 = dataset[dataset[column]!= value]\n",
    "    return (df1,df2)"
   ]
  },
  {
   "cell_type": "code",
   "execution_count": 28,
   "metadata": {
    "collapsed": true
   },
   "outputs": [],
   "source": [
    "def unique_counts(dataset, class_column=\"survived\"):\n",
    "    return dataset[class_column].value_counts().to_dict()"
   ]
  },
  {
   "cell_type": "code",
   "execution_count": 29,
   "metadata": {
    "collapsed": true
   },
   "outputs": [],
   "source": [
    "def gini_impurity(dataset):\n",
    "    total=len(dataset)\n",
    "    counts=unique_counts(dataset)\n",
    "    imp=0\n",
    "    for k1 in counts:\n",
    "        p1=float(counts[k1])/total\n",
    "        for k2 in counts:\n",
    "            if k1==k2: continue\n",
    "            p2=float(counts[k2])/total\n",
    "            imp+=p1*p2\n",
    "    return imp\n",
    "\n",
    "\n",
    "from math import log\n",
    "def entropy(dataset):\n",
    "    log2 = lambda x: log(x)/log(2)\n",
    "    results = unique_counts(dataset)\n",
    "    ent = 0.0\n",
    "    for k,v in results.items():\n",
    "        p = float(v)/len(dataset)\n",
    "        ent = ent - p*log2(p)\n",
    "    return ent"
   ]
  },
  {
   "cell_type": "code",
   "execution_count": 30,
   "metadata": {
    "collapsed": true
   },
   "outputs": [],
   "source": [
    "class tree_node:\n",
    "    def __init__(self,col=-1,value=None,leftn=None, rightn=None, leaf=None):\n",
    "        self.col=col\n",
    "        self.value=value\n",
    "        self.leftn=leftn\n",
    "        self.rightn=rightn\n",
    "        self.leaf=leaf"
   ]
  },
  {
   "cell_type": "code",
   "execution_count": 31,
   "metadata": {
    "collapsed": true
   },
   "outputs": [],
   "source": [
    "class DecisionTree:\n",
    "    def __init__(self, tree=None):\n",
    "        self.tree = tree\n",
    "    def fit(self, features, target, score_f=entropy):\n",
    "        label = target.name\n",
    "        features[label] = target.values\n",
    "        self.tree = self.build_tree(features, label, score_f)\n",
    "    def predict(self, features):\n",
    "        predictions = []\n",
    "        for row in range(0,len(features)):\n",
    "            predictions.append(self.classify(features.iloc[row], self.tree))\n",
    "        return predictions\n",
    "    def classify(self, features, tree):\n",
    "        if tree.leaf != None:\n",
    "            return list(tree.leaf.keys())[0]\n",
    "        else:\n",
    "            v = features[tree.col]\n",
    "            branch = None\n",
    "            if isinstance(v,int) or isinstance(v,float):\n",
    "                if v>= tree.value:\n",
    "                    branch = tree.leftn\n",
    "                else:\n",
    "                    branch = tree.rightn\n",
    "            else:\n",
    "                if v==tree.value:\n",
    "                    branch = tree.leftn\n",
    "                else:\n",
    "                    branch = tree.rightn \n",
    "            return self.classify(features, branch)\n",
    "    def build_tree(self, dataset,label=\"survived\",score_f=entropy):\n",
    "        if len(dataset) == 0:\n",
    "            return tree_node()\n",
    "        current_score = score_f(dataset)\n",
    "\n",
    "        best_gain = 0.0\n",
    "        best_col_val = None\n",
    "        best_dfs = None\n",
    "\n",
    "        columns = list(dataset.columns)\n",
    "        columns.remove(label)\n",
    "        for col in columns:\n",
    "            unique_vals = list(dataset[col].unique())\n",
    "            for val in unique_vals:\n",
    "                (df1,df2) = split_dataset(dataset, col, val)\n",
    "                p = float(len(df1)/len(dataset))\n",
    "                infg = current_score - p*score_f(df1) - (1-p)*score_f(df2)\n",
    "                if infg > best_gain and len(df1)>0 and len(df2)>0:\n",
    "#                     print(\"GAIN: {}, COL: {}, VAL: {}\".format(infg,col,val))\n",
    "                    best_gain = infg\n",
    "                    best_col_val = (col,val)\n",
    "                    best_dfs = (df1,df2)\n",
    "        if best_gain>0:\n",
    "            leftn = self.build_tree(best_dfs[0])\n",
    "            rightn = self.build_tree(best_dfs[1])\n",
    "            return tree_node(best_col_val[0], best_col_val[1], leftn, rightn)\n",
    "        else:\n",
    "            return tree_node(leaf=unique_counts(dataset))\n",
    "    def score(x, y):\n",
    "        return accuracy_score(self.predict(x), y)\n"
   ]
  },
  {
   "cell_type": "markdown",
   "metadata": {},
   "source": [
    "### Using our classifier"
   ]
  },
  {
   "cell_type": "code",
   "execution_count": 32,
   "metadata": {
    "collapsed": false
   },
   "outputs": [],
   "source": [
    "features = ['sex', 'age1', 'pclass', 'fare', 'embarked', 'sibsp', 'parch']"
   ]
  },
  {
   "cell_type": "code",
   "execution_count": 33,
   "metadata": {
    "collapsed": false
   },
   "outputs": [
    {
     "name": "stdout",
     "output_type": "stream",
     "text": [
      "0.774809160305\n"
     ]
    }
   ],
   "source": [
    "dt = DecisionTree()\n",
    "dt.fit(x_train[features], y_train)\n",
    "predictions = dt.predict(x_test[features])\n",
    "\n",
    "results['init_our'] = accuracy_score(y_test, predictions)\n",
    "print(results['init_our'])"
   ]
  },
  {
   "cell_type": "markdown",
   "metadata": {},
   "source": [
    "### Cross validation"
   ]
  },
  {
   "cell_type": "code",
   "execution_count": 34,
   "metadata": {
    "collapsed": false
   },
   "outputs": [],
   "source": [
    "from sklearn.model_selection import KFold\n",
    "def cross_val(classifier, data, target, num_iter):\n",
    "    accus = []\n",
    "    label = target.name\n",
    "    data[label] = target.values\n",
    "    frac = 1 / float(num_iter)\n",
    "    for i in range(0, num_iter):\n",
    "        from_ix = i*frac\n",
    "        to_ix = from_ix + frac\n",
    "        split_ix = data.index[int(len(data)*from_ix):int(len(data)*to_ix)]\n",
    "        train = data.drop(split_ix)\n",
    "        test=data.drop(train.index)\n",
    "        classifier.fit(train.drop(label, 1), train[label])\n",
    "        predictions = classifier.predict(test.drop(label, 1))\n",
    "        acc = accuracy_score(test[label], predictions)\n",
    "        accus.append(acc)\n",
    "    return accus"
   ]
  },
  {
   "cell_type": "code",
   "execution_count": 35,
   "metadata": {
    "collapsed": false
   },
   "outputs": [
    {
     "name": "stdout",
     "output_type": "stream",
     "text": [
      "0.726881972989\n"
     ]
    }
   ],
   "source": [
    "cv_scores = cross_val(DecisionTree(), df[features], df['survived'], 10)\n",
    "\n",
    "results['cv_our'] = np.mean(cv_scores)\n",
    "print(results['cv_our'])"
   ]
  },
  {
   "cell_type": "markdown",
   "metadata": {},
   "source": [
    "### Print decision rules"
   ]
  },
  {
   "cell_type": "code",
   "execution_count": 36,
   "metadata": {
    "collapsed": true
   },
   "outputs": [],
   "source": [
    "def printtree(tree, indent=''):\n",
    "\n",
    "    # Is this a leaf node?\n",
    "    if tree.leaf!=None:\n",
    "        print(str(tree.leaf))\n",
    "    else:\n",
    "        print(str(tree.col)+':'+str(tree.value)+'? ')\n",
    "        # Print the branches\n",
    "        print(indent+'T->', end=\" \")\n",
    "        printtree(tree.leftn,indent+'  ')\n",
    "        print(indent+'F->', end=\" \")\n",
    "        printtree(tree.rightn,indent+'  ')\n"
   ]
  },
  {
   "cell_type": "code",
   "execution_count": 37,
   "metadata": {
    "collapsed": false
   },
   "outputs": [
    {
     "name": "stdout",
     "output_type": "stream",
     "text": [
      "sex:female? \n",
      "T-> pclass:thirdClass? \n",
      "  T-> fare:23.45? \n",
      "    T-> fare:34.375? \n",
      "      T-> {0: 9}\n",
      "      F-> fare:31.3875? \n",
      "        T-> {1: 2}\n",
      "        F-> parch:0? \n",
      "          T-> {1: 1}\n",
      "          F-> {0: 14}\n",
      "    F-> fare:7.2833? \n",
      "      T-> age1:2.0? \n",
      "        T-> fare:22.025? \n",
      "          T-> {1: 6}\n",
      "          F-> age1:37.0? \n",
      "            T-> sibsp:1? \n",
      "              T-> age1:45.0? \n",
      "                T-> age1:47.0? \n",
      "                  T-> {0: 1}\n",
      "                  F-> {1: 1}\n",
      "                F-> {0: 1}\n",
      "              F-> {0: 6}\n",
      "            F-> fare:21.075? \n",
      "              T-> {0: 2}\n",
      "              F-> fare:20.25? \n",
      "                T-> {1: 2}\n",
      "                F-> fare:8.1125? \n",
      "                  T-> fare:8.6833? \n",
      "                    T-> sibsp:1? \n",
      "                      T-> fare:17.8? \n",
      "                        T-> {0: 3}\n",
      "                        F-> fare:16.7? \n",
      "                          T-> {1: 2}\n",
      "                          F-> age1:15.0? \n",
      "                            T-> age1:26.0? \n",
      "                              T-> fare:15.5? \n",
      "                                T-> age1:30.0? \n",
      "                                  T-> {0: 2}\n",
      "                                  F-> age1:29.8425926245? \n",
      "                                    T-> {1: 2}\n",
      "                                    F-> {0: 1}\n",
      "                                F-> {0: 4}\n",
      "                              F-> fare:16.1? \n",
      "                                T-> {0: 1}\n",
      "                                F-> fare:12.2875? \n",
      "                                  T-> {1: 4}\n",
      "                                  F-> {0: 1}\n",
      "                            F-> {0: 3}\n",
      "                      F-> fare:15.5? \n",
      "                        T-> fare:18.0? \n",
      "                          T-> age1:18.0? \n",
      "                            T-> {0: 1}\n",
      "                            F-> {1: 1}\n",
      "                          F-> {1: 5}\n",
      "                        F-> fare:13.775? \n",
      "                          T-> fare:15.2458? \n",
      "                            T-> age1:29.8425926245? \n",
      "                              T-> {0: 1, 1: 1}\n",
      "                              F-> {1: 1}\n",
      "                            F-> {0: 4}\n",
      "                          F-> fare:12.2875? \n",
      "                            T-> {1: 4}\n",
      "                            F-> fare:10.4625? \n",
      "                              T-> age1:27.0? \n",
      "                                T-> age1:36.0? \n",
      "                                  T-> {0: 1}\n",
      "                                  F-> {1: 1}\n",
      "                                F-> {0: 2}\n",
      "                              F-> age1:22.0? \n",
      "                                T-> age1:31.0? \n",
      "                                  T-> {1: 1}\n",
      "                                  F-> fare:8.9625? \n",
      "                                    T-> fare:9.8375? \n",
      "                                      T-> {0: 1}\n",
      "                                      F-> {1: 1}\n",
      "                                    F-> {0: 1}\n",
      "                                F-> {1: 2}\n",
      "                    F-> age1:20.0? \n",
      "                      T-> {0: 7}\n",
      "                      F-> {1: 1}\n",
      "                  F-> age1:30.5? \n",
      "                    T-> {0: 3}\n",
      "                    F-> age1:15.0? \n",
      "                      T-> age1:17.0? \n",
      "                        T-> fare:7.4958? \n",
      "                          T-> fare:7.6292? \n",
      "                            T-> fare:7.7208? \n",
      "                              T-> fare:7.7333? \n",
      "                                T-> fare:7.75? \n",
      "                                  T-> age1:24.0? \n",
      "                                    T-> age1:29.8425926245? \n",
      "                                      T-> parch:0? \n",
      "                                        T-> fare:8.05? \n",
      "                                          T-> {0: 2, 1: 2}\n",
      "                                          F-> fare:7.7792? \n",
      "                                            T-> fare:7.8792? \n",
      "                                              T-> {0: 1, 1: 3}\n",
      "                                              F-> {1: 3}\n",
      "                                            F-> {0: 4, 1: 8}\n",
      "                                        F-> {0: 1}\n",
      "                                      F-> age1:27.0? \n",
      "                                        T-> {0: 4}\n",
      "                                        F-> age1:26.0? \n",
      "                                          T-> {1: 1}\n",
      "                                          F-> age1:25.0? \n",
      "                                            T-> {0: 2}\n",
      "                                            F-> {0: 1, 1: 1}\n",
      "                                    F-> age1:22.0? \n",
      "                                      T-> {1: 5}\n",
      "                                      F-> age1:20.0? \n",
      "                                        T-> {0: 2}\n",
      "                                        F-> age1:19.0? \n",
      "                                          T-> {1: 2}\n",
      "                                          F-> fare:7.925? \n",
      "                                            T-> {1: 2}\n",
      "                                            F-> embarked:S? \n",
      "                                              T-> {0: 1, 1: 1}\n",
      "                                              F-> {0: 1}\n",
      "                                  F-> {0: 1}\n",
      "                                F-> {1: 2}\n",
      "                              F-> {0: 1}\n",
      "                            F-> {1: 2}\n",
      "                          F-> {0: 1}\n",
      "                        F-> {1: 3}\n",
      "                      F-> {0: 1}\n",
      "        F-> {1: 6}\n",
      "      F-> {1: 9}\n",
      "  F-> fare:31.6833? \n",
      "    T-> age1:3.0? \n",
      "      T-> {1: 104}\n",
      "      F-> age1:2.0? \n",
      "        T-> {0: 1}\n",
      "        F-> {1: 1}\n",
      "    F-> parch:0? \n",
      "      T-> age1:57.0? \n",
      "        T-> {0: 2}\n",
      "        F-> age1:22.0? \n",
      "          T-> fare:13.0? \n",
      "            T-> age1:23.0? \n",
      "              T-> fare:31.6792? \n",
      "                T-> {0: 1}\n",
      "                F-> embarked:C? \n",
      "                  T-> age1:50.0? \n",
      "                    T-> age1:53.0? \n",
      "                      T-> {1: 1}\n",
      "                      F-> {0: 1}\n",
      "                    F-> {1: 8}\n",
      "                  F-> age1:31.0? \n",
      "                    T-> age1:38.0? \n",
      "                      T-> age1:48.0? \n",
      "                        T-> {1: 3}\n",
      "                        F-> age1:42.0? \n",
      "                          T-> age1:44.0? \n",
      "                            T-> {0: 1}\n",
      "                            F-> {1: 1}\n",
      "                          F-> {0: 1}\n",
      "                      F-> {1: 8}\n",
      "                    F-> sibsp:3? \n",
      "                      T-> {1: 1}\n",
      "                      F-> age1:29.0? \n",
      "                        T-> age1:29.8425926245? \n",
      "                          T-> age1:30.0? \n",
      "                            T-> {0: 1, 1: 1}\n",
      "                            F-> {0: 1}\n",
      "                          F-> {0: 1, 1: 1}\n",
      "                        F-> age1:28.0? \n",
      "                          T-> {1: 2}\n",
      "                          F-> age1:27.0? \n",
      "                            T-> {0: 1}\n",
      "                            F-> sibsp:0? \n",
      "                              T-> {0: 1, 1: 1}\n",
      "                              F-> {1: 1}\n",
      "              F-> {0: 1}\n",
      "            F-> {1: 7}\n",
      "          F-> {1: 11}\n",
      "      F-> fare:14.5? \n",
      "        T-> {1: 27}\n",
      "        F-> {0: 1}\n",
      "F-> age1:10.0? \n",
      "  T-> pclass:firstClass? \n",
      "    T-> age1:55.0? \n",
      "      T-> age1:80.0? \n",
      "        T-> {1: 1}\n",
      "        F-> age1:61.0? \n",
      "          T-> {0: 11}\n",
      "          F-> age1:60.0? \n",
      "            T-> {1: 1}\n",
      "            F-> fare:50.0? \n",
      "              T-> {0: 5}\n",
      "              F-> fare:35.5? \n",
      "                T-> {1: 1}\n",
      "                F-> {0: 2}\n",
      "      F-> fare:512.3292? \n",
      "        T-> {1: 2}\n",
      "        F-> fare:135.6333? \n",
      "          T-> age1:19.0? \n",
      "            T-> {0: 11}\n",
      "            F-> {1: 1}\n",
      "          F-> fare:110.8833? \n",
      "            T-> {1: 3}\n",
      "            F-> age1:28.0? \n",
      "              T-> fare:38.5? \n",
      "                T-> sibsp:1? \n",
      "                  T-> age1:53.0? \n",
      "                    T-> {1: 2}\n",
      "                    F-> parch:0? \n",
      "                      T-> age1:48.0? \n",
      "                        T-> age1:50.0? \n",
      "                          T-> {0: 2}\n",
      "                          F-> {1: 3}\n",
      "                        F-> fare:90.0? \n",
      "                          T-> {1: 1}\n",
      "                          F-> fare:61.175? \n",
      "                            T-> {0: 6}\n",
      "                            F-> fare:52.5542? \n",
      "                              T-> age1:37.0? \n",
      "                                T-> age1:42.0? \n",
      "                                  T-> {1: 1}\n",
      "                                  F-> {0: 1}\n",
      "                                F-> {1: 1}\n",
      "                              F-> {0: 3}\n",
      "                      F-> {1: 1}\n",
      "                  F-> fare:40.125? \n",
      "                    T-> {0: 16}\n",
      "                    F-> fare:39.6? \n",
      "                      T-> embarked:C? \n",
      "                        T-> {0: 1}\n",
      "                        F-> {1: 1}\n",
      "                      F-> {0: 1}\n",
      "                F-> age1:51.0? \n",
      "                  T-> {1: 3}\n",
      "                  F-> fare:26.2875? \n",
      "                    T-> fare:26.55? \n",
      "                      T-> fare:28.5375? \n",
      "                        T-> age1:37.0? \n",
      "                          T-> age1:40.0? \n",
      "                            T-> embarked:C? \n",
      "                              T-> {1: 2}\n",
      "                              F-> {0: 2}\n",
      "                            F-> {0: 2}\n",
      "                          F-> fare:30.6958? \n",
      "                            T-> fare:35.5? \n",
      "                              T-> {1: 2}\n",
      "                              F-> {0: 2}\n",
      "                            F-> {1: 4}\n",
      "                        F-> age1:34.0? \n",
      "                          T-> age1:40.0? \n",
      "                            T-> sibsp:0? \n",
      "                              T-> age1:45.0? \n",
      "                                T-> age1:45.5? \n",
      "                                  T-> {0: 1}\n",
      "                                  F-> {0: 1, 1: 1}\n",
      "                                F-> {0: 2}\n",
      "                              F-> {1: 1}\n",
      "                            F-> {1: 2}\n",
      "                          F-> fare:27.7208? \n",
      "                            T-> {0: 4}\n",
      "                            F-> age1:33.0? \n",
      "                              T-> {0: 1}\n",
      "                              F-> {0: 3, 1: 1}\n",
      "                      F-> {1: 4}\n",
      "                    F-> embarked:S? \n",
      "                      T-> age1:49.0? \n",
      "                        T-> fare:26.0? \n",
      "                          T-> {0: 2}\n",
      "                          F-> {1: 1}\n",
      "                        F-> age1:30.0? \n",
      "                          T-> {0: 6}\n",
      "                          F-> fare:26.0? \n",
      "                            T-> {0: 1, 1: 1}\n",
      "                            F-> {0: 2}\n",
      "                      F-> {1: 1}\n",
      "              F-> age1:25.0? \n",
      "                T-> {1: 5}\n",
      "                F-> embarked:C? \n",
      "                  T-> {1: 2}\n",
      "                  F-> age1:24.0? \n",
      "                    T-> fare:82.2667? \n",
      "                      T-> {1: 1}\n",
      "                      F-> {0: 1}\n",
      "                    F-> {0: 4}\n",
      "    F-> embarked:C? \n",
      "      T-> parch:1? \n",
      "        T-> age1:20.0? \n",
      "          T-> pclass:thirdClass? \n",
      "            T-> {1: 4}\n",
      "            F-> {0: 1}\n",
      "          F-> {0: 1}\n",
      "        F-> fare:14.4542? \n",
      "          T-> {0: 14}\n",
      "          F-> fare:11.2417? \n",
      "            T-> age1:36.0? \n",
      "              T-> {0: 1}\n",
      "              F-> {1: 4}\n",
      "            F-> age1:29.8425926245? \n",
      "              T-> fare:7.2292? \n",
      "                T-> fare:7.8958? \n",
      "                  T-> {0: 6}\n",
      "                  F-> age1:39.0? \n",
      "                    T-> {0: 1}\n",
      "                    F-> {0: 8, 1: 1}\n",
      "                F-> {0: 9}\n",
      "              F-> age1:29.0? \n",
      "                T-> {1: 1}\n",
      "                F-> age1:26.5? \n",
      "                  T-> {0: 3}\n",
      "                  F-> age1:20.0? \n",
      "                    T-> fare:7.225? \n",
      "                      T-> age1:22.5? \n",
      "                        T-> age1:25.0? \n",
      "                          T-> fare:7.2292? \n",
      "                            T-> {1: 1}\n",
      "                            F-> {0: 1}\n",
      "                          F-> {0: 2}\n",
      "                        F-> age1:22.0? \n",
      "                          T-> fare:7.2292? \n",
      "                            T-> {0: 1}\n",
      "                            F-> {1: 2}\n",
      "                          F-> fare:7.2292? \n",
      "                            T-> {1: 1}\n",
      "                            F-> {0: 2}\n",
      "                      F-> {0: 1}\n",
      "                    F-> {0: 1}\n",
      "      F-> age1:18.0? \n",
      "        T-> pclass:secondClass? \n",
      "          T-> fare:13.5? \n",
      "            T-> parch:1? \n",
      "              T-> age1:28.0? \n",
      "                T-> {0: 6}\n",
      "                F-> age1:26.0? \n",
      "                  T-> {1: 1}\n",
      "                  F-> {0: 1}\n",
      "              F-> {0: 36}\n",
      "            F-> age1:31.0? \n",
      "              T-> age1:32.0? \n",
      "                T-> embarked:S? \n",
      "                  T-> age1:34.0? \n",
      "                    T-> age1:36.0? \n",
      "                      T-> age1:42.0? \n",
      "                        T-> age1:66.0? \n",
      "                          T-> {0: 2}\n",
      "                          F-> age1:62.0? \n",
      "                            T-> {1: 1}\n",
      "                            F-> age1:48.0? \n",
      "                              T-> {0: 5}\n",
      "                              F-> {0: 2, 1: 1}\n",
      "                        F-> {0: 6}\n",
      "                      F-> {0: 1, 1: 1}\n",
      "                    F-> {0: 3}\n",
      "                  F-> {0: 4}\n",
      "                F-> fare:13.0? \n",
      "                  T-> {1: 1}\n",
      "                  F-> {0: 1}\n",
      "              F-> age1:25.0? \n",
      "                T-> {0: 24}\n",
      "                F-> fare:11.5? \n",
      "                  T-> {0: 10}\n",
      "                  F-> age1:22.0? \n",
      "                    T-> age1:23.0? \n",
      "                      T-> age1:24.0? \n",
      "                        T-> {0: 1, 1: 1}\n",
      "                        F-> {0: 2}\n",
      "                      F-> {1: 1}\n",
      "                    F-> {0: 2}\n",
      "          F-> parch:0? \n",
      "            T-> fare:56.4958? \n",
      "              T-> age1:32.0? \n",
      "                T-> {1: 1}\n",
      "                F-> age1:28.0? \n",
      "                  T-> age1:29.8425926245? \n",
      "                    T-> {0: 1, 1: 2}\n",
      "                    F-> {0: 1}\n",
      "                  F-> {1: 1}\n",
      "              F-> age1:47.0? \n",
      "                T-> {0: 13}\n",
      "                F-> age1:45.0? \n",
      "                  T-> {1: 1}\n",
      "                  F-> fare:7.8292? \n",
      "                    T-> fare:7.925? \n",
      "                      T-> fare:8.05? \n",
      "                        T-> age1:20.0? \n",
      "                          T-> age1:25.0? \n",
      "                            T-> fare:8.1125? \n",
      "                              T-> fare:8.3625? \n",
      "                                T-> age1:38.0? \n",
      "                                  T-> {0: 5}\n",
      "                                  F-> age1:36.5? \n",
      "                                    T-> {1: 1}\n",
      "                                    F-> age1:31.0? \n",
      "                                      T-> {0: 8}\n",
      "                                      F-> sibsp:1? \n",
      "                                        T-> {0: 7}\n",
      "                                        F-> age1:26.0? \n",
      "                                          T-> age1:30.0? \n",
      "                                            T-> {1: 1}\n",
      "                                            F-> fare:23.25? \n",
      "                                              T-> {1: 1}\n",
      "                                              F-> fare:14.5? \n",
      "                                                T-> {0: 6}\n",
      "                                                F-> age1:29.8425926245? \n",
      "                                                  T-> {0: 2}\n",
      "                                                  F-> age1:29.0? \n",
      "                                                    T-> fare:9.5? \n",
      "                                                      T-> {1: 1}\n",
      "                                                      F-> {0: 1}\n",
      "                                                    F-> age1:28.0? \n",
      "                                                      T-> {0: 2}\n",
      "                                                      F-> age1:27.0? \n",
      "                                                        T-> {0: 2, 1: 1}\n",
      "                                                        F-> {0: 1}\n",
      "                                          F-> {1: 1}\n",
      "                                F-> {1: 1}\n",
      "                              F-> age1:32.0? \n",
      "                                T-> age1:34.0? \n",
      "                                  T-> {0: 7}\n",
      "                                  F-> {0: 1, 1: 1}\n",
      "                                F-> {0: 19}\n",
      "                            F-> {0: 26}\n",
      "                          F-> fare:8.3? \n",
      "                            T-> {0: 2}\n",
      "                            F-> {1: 2}\n",
      "                        F-> age1:44.0? \n",
      "                          T-> {1: 1}\n",
      "                          F-> sibsp:1? \n",
      "                            T-> {1: 1}\n",
      "                            F-> age1:32.0? \n",
      "                              T-> age1:39.0? \n",
      "                                T-> {0: 1, 1: 1}\n",
      "                                F-> {0: 2, 1: 1}\n",
      "                              F-> age1:21.0? \n",
      "                                T-> {0: 4}\n",
      "                                F-> {0: 1, 1: 1}\n",
      "                      F-> age1:32.0? \n",
      "                        T-> age1:33.0? \n",
      "                          T-> {0: 8}\n",
      "                          F-> fare:7.8958? \n",
      "                            T-> {0: 1}\n",
      "                            F-> {1: 1}\n",
      "                        F-> {0: 35}\n",
      "                    F-> age1:33.0? \n",
      "                      T-> {0: 12}\n",
      "                      F-> age1:21.0? \n",
      "                        T-> fare:7.775? \n",
      "                          T-> age1:22.0? \n",
      "                            T-> age1:26.0? \n",
      "                              T-> age1:32.0? \n",
      "                                T-> {1: 1}\n",
      "                                F-> age1:28.0? \n",
      "                                  T-> age1:29.8425926245? \n",
      "                                    T-> {0: 1, 1: 1}\n",
      "                                    F-> {0: 2}\n",
      "                                  F-> age1:27.0? \n",
      "                                    T-> {1: 1}\n",
      "                                    F-> {0: 1, 1: 1}\n",
      "                              F-> {0: 5}\n",
      "                            F-> fare:7.7958? \n",
      "                              T-> {1: 2}\n",
      "                              F-> {0: 1, 1: 1}\n",
      "                          F-> fare:6.8583? \n",
      "                            T-> age1:24.0? \n",
      "                              T-> age1:28.0? \n",
      "                                T-> fare:7.05? \n",
      "                                  T-> fare:7.25? \n",
      "                                    T-> fare:7.5792? \n",
      "                                      T-> fare:7.7333? \n",
      "                                        T-> age1:31.0? \n",
      "                                          T-> {0: 3}\n",
      "                                          F-> fare:7.75? \n",
      "                                            T-> sibsp:0? \n",
      "                                              T-> {0: 13, 1: 4}\n",
      "                                              F-> {0: 2}\n",
      "                                            F-> {0: 2}\n",
      "                                        F-> {1: 1}\n",
      "                                      F-> {0: 9}\n",
      "                                    F-> {1: 1}\n",
      "                                  F-> {0: 4}\n",
      "                                F-> age1:27.0? \n",
      "                                  T-> {1: 1}\n",
      "                                  F-> fare:7.1417? \n",
      "                                    T-> embarked:S? \n",
      "                                      T-> fare:7.25? \n",
      "                                        T-> fare:7.55? \n",
      "                                          T-> age1:25.0? \n",
      "                                            T-> {0: 1, 1: 1}\n",
      "                                            F-> {1: 1}\n",
      "                                          F-> {0: 2}\n",
      "                                        F-> {1: 1}\n",
      "                                      F-> {0: 2}\n",
      "                                    F-> {0: 2}\n",
      "                              F-> {0: 7}\n",
      "                            F-> {1: 1}\n",
      "                        F-> {0: 9}\n",
      "            F-> {0: 18}\n",
      "        F-> {0: 24}\n",
      "  F-> pclass:thirdClass? \n",
      "    T-> fare:13.775? \n",
      "      T-> sibsp:1? \n",
      "        T-> age1:7.0? \n",
      "          T-> {1: 2}\n",
      "          F-> fare:15.9? \n",
      "            T-> {1: 1}\n",
      "            F-> {0: 2}\n",
      "        F-> age1:4.0? \n",
      "          T-> {0: 9}\n",
      "          F-> age1:3.0? \n",
      "            T-> {1: 1}\n",
      "            F-> {0: 3}\n",
      "      F-> {1: 5}\n",
      "    F-> {1: 13}\n"
     ]
    }
   ],
   "source": [
    "printtree(dt.tree)"
   ]
  },
  {
   "cell_type": "markdown",
   "metadata": {},
   "source": [
    "## Improving our classifier\n",
    "### Bagging"
   ]
  },
  {
   "cell_type": "code",
   "execution_count": 38,
   "metadata": {
    "collapsed": true
   },
   "outputs": [],
   "source": [
    "def generate_trees(train, features, label, m=9):\n",
    "    dt_list = []\n",
    "    for i in range(0,m):\n",
    "        sample = train.sample(len(train), replace=True)\n",
    "        dt = DecisionTree()\n",
    "        dt.fit(sample[features], sample[label])\n",
    "        dt_list.append(dt)\n",
    "    return dt_list\n",
    "\n",
    "\n",
    "\n",
    "\n",
    "from collections import Counter\n",
    "def bagging(train, test, features, label, dt_list):\n",
    "    predictions = []\n",
    "    df = pd.DataFrame()\n",
    "    # Iterate over decision trees\n",
    "    for i in range(0, len(dt_list)):\n",
    "        dt = dt_list[i]\n",
    "        df[i] = pd.Series(dt.predict(test))\n",
    "    for row in df.iterrows():\n",
    "        c = Counter([pred for pred in row[1]])\n",
    "        predictions.append(c.most_common()[0][0])\n",
    "        # print(\"Iter {}, Pred: {}\", i, predictions)\n",
    "    return predictions\n"
   ]
  },
  {
   "cell_type": "code",
   "execution_count": 39,
   "metadata": {
    "collapsed": false
   },
   "outputs": [
    {
     "name": "stdout",
     "output_type": "stream",
     "text": [
      "0.790076335878\n"
     ]
    }
   ],
   "source": [
    "trees = generate_trees(x_train, features, 'survived', m=9)\n",
    "preds = bagging(x_train, x_test, features, 'survived', trees)\n",
    "\n",
    "results['bagg_our'] = accuracy_score(y_test, preds)\n",
    "print(results['bagg_our'])"
   ]
  },
  {
   "cell_type": "markdown",
   "metadata": {
    "collapsed": true
   },
   "source": [
    "### Random forests"
   ]
  },
  {
   "cell_type": "code",
   "execution_count": 40,
   "metadata": {
    "collapsed": true
   },
   "outputs": [],
   "source": [
    "import random\n",
    "def generate_simple_trees(train, features, label, m=9, num_feats=3):\n",
    "    dt_list = []\n",
    "    for i in range(0,m):\n",
    "        sample = train.sample(len(train), replace=True)\n",
    "        random.shuffle(features)\n",
    "        features[0:num_feats]\n",
    "        dt = DecisionTree()\n",
    "        dt.fit(sample[features], sample[label])\n",
    "        dt_list.append(dt)\n",
    "    return dt_list"
   ]
  },
  {
   "cell_type": "code",
   "execution_count": 41,
   "metadata": {
    "collapsed": false
   },
   "outputs": [
    {
     "name": "stdout",
     "output_type": "stream",
     "text": [
      "0.812977099237\n"
     ]
    }
   ],
   "source": [
    "trees = generate_simple_trees(x_train, features, 'survived', m=15)\n",
    "preds = bagging(x_train, x_test, features, 'survived', trees)\n",
    "\n",
    "\n",
    "results['randf_our'] = accuracy_score(y_test, preds)\n",
    "print(results['randf_our'])"
   ]
  },
  {
   "cell_type": "code",
   "execution_count": 43,
   "metadata": {
    "collapsed": false
   },
   "outputs": [
    {
     "data": {
      "text/plain": [
       "{'bagg_our': 0.79007633587786263,\n",
       " 'cv_our': 0.72688197298884316,\n",
       " 'cv_sk': 0.71452953520235618,\n",
       " 'init_our': 0.77480916030534353,\n",
       " 'init_sk': 0.78244274809160308,\n",
       " 'init_sk_bp': 0.83587786259541985,\n",
       " 'pg_cv_sk': 0.75503698036215228,\n",
       " 'randf_our': 0.81297709923664119}"
      ]
     },
     "execution_count": 43,
     "metadata": {},
     "output_type": "execute_result"
    }
   ],
   "source": [
    "results"
   ]
  },
  {
   "cell_type": "markdown",
   "metadata": {},
   "source": [
    "### Comparing to SK"
   ]
  },
  {
   "cell_type": "markdown",
   "metadata": {
    "collapsed": true
   },
   "source": [
    "In terms of classifier performance, as it could be seen from the dictionary results:\n",
    "\n",
    "The initial accuracy of our classifier was 0.77480916030534353 and the initial accuracy of the sklearn implementation was 0.78244274809160308. \n",
    "\n",
    "After performing cross validation, the mean accuracy of our classifier was 0.72688197298884316 and it was 0.71452953520235618 for the sklearn implementation.\n",
    "\n",
    "We implemented bagging for our classifier, which improved the accuracy up to 0.79007633587786263. Additionaly, we implemented random forests. Using this method improved the classifier performance up to 0.81297709923664119.\n",
    "\n",
    "However, after using Grid Search and determening the best hyperparameters the SK classifier performed much better with an accuracy of 0.83587786259541985. \n",
    "\n"
   ]
  },
  {
   "cell_type": "code",
   "execution_count": null,
   "metadata": {
    "collapsed": true
   },
   "outputs": [],
   "source": []
  }
 ],
 "metadata": {
  "anaconda-cloud": {},
  "kernelspec": {
   "display_name": "Python [conda root]",
   "language": "python",
   "name": "conda-root-py"
  },
  "language_info": {
   "codemirror_mode": {
    "name": "ipython",
    "version": 3
   },
   "file_extension": ".py",
   "mimetype": "text/x-python",
   "name": "python",
   "nbconvert_exporter": "python",
   "pygments_lexer": "ipython3",
   "version": "3.5.2"
  }
 },
 "nbformat": 4,
 "nbformat_minor": 1
}
