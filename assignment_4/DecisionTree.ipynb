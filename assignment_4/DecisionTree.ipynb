{
 "cells": [
  {
   "cell_type": "code",
   "execution_count": 4,
   "metadata": {
    "collapsed": true
   },
   "outputs": [],
   "source": [
    "my_data=[['slashdot','USA','yes',18,'None'],\n",
    "        ['google','France','yes',23,'Premium'],\n",
    "        ['digg','USA','yes',24,'Basic'],\n",
    "        ['kiwitobes','France','yes',23,'Basic'],\n",
    "        ['google','UK','no',21,'Premium'],\n",
    "        ['(direct)','New Zealand','no',12,'None'],\n",
    "        ['(direct)','UK','no',21,'Basic'],\n",
    "        ['google','USA','no',24,'Premium'],\n",
    "        ['slashdot','France','yes',19,'None'],\n",
    "        ['digg','USA','no',18,'None'],\n",
    "        ['google','UK','no',18,'None'],\n",
    "        ['kiwitobes','UK','no',19,'None'],\n",
    "        ['digg','New Zealand','yes',12,'Basic'],\n",
    "        ['slashdot','UK','no',21,'None'],\n",
    "        ['google','UK','yes',18,'Basic'],\n",
    "        ['kiwitobes','France','yes',19,'Basic']]"
   ]
  },
  {
   "cell_type": "code",
   "execution_count": 5,
   "metadata": {
    "collapsed": false
   },
   "outputs": [],
   "source": [
    "def divideset(rows, column, value):\n",
    "    split_f = None\n",
    "    if isinstance(value, int) or isinstance(value, float):\n",
    "        split_f = lambda row: row[column]>=value\n",
    "    else:\n",
    "        split_f = lambda row: row[column]==value\n",
    "    set1 = [row for row in rows if split_f(row)]\n",
    "    set2 = [row for row in rows if not split_f(row)]\n",
    "    return (set1, set2)"
   ]
  },
  {
   "cell_type": "code",
   "execution_count": 6,
   "metadata": {
    "collapsed": false
   },
   "outputs": [
    {
     "data": {
      "text/plain": [
       "([['google', 'France', 'yes', 23, 'Premium'],\n",
       "  ['google', 'UK', 'no', 21, 'Premium'],\n",
       "  ['google', 'USA', 'no', 24, 'Premium'],\n",
       "  ['google', 'UK', 'no', 18, 'None'],\n",
       "  ['google', 'UK', 'yes', 18, 'Basic']],\n",
       " [['slashdot', 'USA', 'yes', 18, 'None'],\n",
       "  ['digg', 'USA', 'yes', 24, 'Basic'],\n",
       "  ['kiwitobes', 'France', 'yes', 23, 'Basic'],\n",
       "  ['(direct)', 'New Zealand', 'no', 12, 'None'],\n",
       "  ['(direct)', 'UK', 'no', 21, 'Basic'],\n",
       "  ['slashdot', 'France', 'yes', 19, 'None'],\n",
       "  ['digg', 'USA', 'no', 18, 'None'],\n",
       "  ['kiwitobes', 'UK', 'no', 19, 'None'],\n",
       "  ['digg', 'New Zealand', 'yes', 12, 'Basic'],\n",
       "  ['slashdot', 'UK', 'no', 21, 'None'],\n",
       "  ['kiwitobes', 'France', 'yes', 19, 'Basic']])"
      ]
     },
     "execution_count": 6,
     "metadata": {},
     "output_type": "execute_result"
    }
   ],
   "source": [
    "divideset(my_data, 0, 'google')"
   ]
  },
  {
   "cell_type": "code",
   "execution_count": 7,
   "metadata": {
    "collapsed": true
   },
   "outputs": [],
   "source": [
    "def unique_counts(rows):\n",
    "    results = {}\n",
    "    for row in rows:\n",
    "        r = row[-1]\n",
    "        if r not in results: results[r]=0\n",
    "        results[r]+=1\n",
    "    return results"
   ]
  },
  {
   "cell_type": "code",
   "execution_count": 8,
   "metadata": {
    "collapsed": false
   },
   "outputs": [
    {
     "data": {
      "text/plain": [
       "{'Basic': 6, 'None': 7, 'Premium': 3}"
      ]
     },
     "execution_count": 8,
     "metadata": {},
     "output_type": "execute_result"
    }
   ],
   "source": [
    "unique_counts(my_data)"
   ]
  },
  {
   "cell_type": "code",
   "execution_count": 9,
   "metadata": {
    "collapsed": false
   },
   "outputs": [
    {
     "data": {
      "text/plain": [
       "{'Basic': 1, 'None': 1, 'Premium': 3}"
      ]
     },
     "execution_count": 9,
     "metadata": {},
     "output_type": "execute_result"
    }
   ],
   "source": [
    "unique_counts(divideset(my_data, 0, \"google\")[0])"
   ]
  },
  {
   "cell_type": "code",
   "execution_count": 10,
   "metadata": {
    "collapsed": false
   },
   "outputs": [
    {
     "data": {
      "image/png": "[encoded data removed]",
      "text/plain": [
       "<IPython.core.display.Image object>"
      ]
     },
     "execution_count": 10,
     "metadata": {},
     "output_type": "execute_result"
    }
   ],
   "source": [
    "from IPython.display import Image\n",
    "Image(filename=\"logbase.PNG\")"
   ]
  },
  {
   "cell_type": "code",
   "execution_count": 11,
   "metadata": {
    "collapsed": true
   },
   "outputs": [],
   "source": [
    "from math import log\n",
    "def entropy(rows):\n",
    "    log2 = lambda x: log(x)/log(2)\n",
    "    results = unique_counts(rows)\n",
    "    ent = 0.0\n",
    "    for k,v in results.items():\n",
    "        p = float(v)/len(rows)\n",
    "        ent = ent - p*log2(p)\n",
    "    return ent"
   ]
  },
  {
   "cell_type": "code",
   "execution_count": 12,
   "metadata": {
    "collapsed": false
   },
   "outputs": [
    {
     "data": {
      "text/plain": [
       "(1.4488156357251847, 0.9182958340544896)"
      ]
     },
     "execution_count": 12,
     "metadata": {},
     "output_type": "execute_result"
    }
   ],
   "source": [
    "set1, set2 = divideset(my_data, 3, 20)\n",
    "entropy(set1), entropy(set2)"
   ]
  },
  {
   "cell_type": "code",
   "execution_count": 13,
   "metadata": {
    "collapsed": false
   },
   "outputs": [
    {
     "data": {
      "text/plain": [
       "(1.3709505944546687, 0.9940302114769565)"
      ]
     },
     "execution_count": 13,
     "metadata": {},
     "output_type": "execute_result"
    }
   ],
   "source": [
    "set1, set2 = divideset(my_data, 0, \"google\")\n",
    "entropy(set1), entropy(set2)"
   ]
  },
  {
   "cell_type": "code",
   "execution_count": 14,
   "metadata": {
    "collapsed": false
   },
   "outputs": [
    {
     "data": {
      "text/plain": [
       "1.5052408149441479"
      ]
     },
     "execution_count": 14,
     "metadata": {},
     "output_type": "execute_result"
    }
   ],
   "source": [
    "entropy(my_data)"
   ]
  },
  {
   "cell_type": "code",
   "execution_count": 15,
   "metadata": {
    "collapsed": false
   },
   "outputs": [],
   "source": [
    "def information_gain(my_data, set1, set2):\n",
    "    initial = entropy(my_data)\n",
    "    return initial -len(set1)*entropy(set1)/len(my_data) - len(set2)*entropy(set2)/len(my_data)"
   ]
  },
  {
   "cell_type": "code",
   "execution_count": 16,
   "metadata": {
    "collapsed": false
   },
   "outputs": [
    {
     "data": {
      "text/plain": [
       "0.3934229837866562"
      ]
     },
     "execution_count": 16,
     "metadata": {},
     "output_type": "execute_result"
    }
   ],
   "source": [
    "information_gain(my_data, set1, set2)"
   ]
  },
  {
   "cell_type": "code",
   "execution_count": 17,
   "metadata": {
    "collapsed": true
   },
   "outputs": [],
   "source": [
    "class decision_node:\n",
    "    def __init__(self,col=-1,value=None,results=None,tb=None,fb=None):\n",
    "        self.col=col\n",
    "        self.value=value\n",
    "        self.results=results\n",
    "        self.tb=tb\n",
    "        self.fb=fb   "
   ]
  },
  {
   "cell_type": "code",
   "execution_count": 18,
   "metadata": {
    "collapsed": true
   },
   "outputs": [],
   "source": [
    "def build_tree(rows,score_f=entropy):\n",
    "    if(len(rows)==0):return decision_node()\n",
    "    current_score = score_f(rows)\n",
    "    \n",
    "    best_gain = 0.0\n",
    "    best_criteria = None\n",
    "    best_sets = None\n",
    "    \n",
    "    column_count = len(rows[0])-1\n",
    "    \n",
    "    for col in range(0,column_count):\n",
    "        column_values = {}\n",
    "        for row in rows:\n",
    "            column_values[row[col]]=1\n",
    "        for value in column_values.keys():\n",
    "            (set1, set2) = divideset(rows,col,value)\n",
    "            p = float(len(set1)/len(rows))\n",
    "            gain = current_score-p*score_f(set1)-(1-p)*score_f(set2)\n",
    "            if gain>best_gain and len(set1)>0 and len(set2)>0:\n",
    "                best_gain = gain\n",
    "                best_criteria = (col,value)\n",
    "                best_sets = (set1,set2)\n",
    "        if best_gain>0:\n",
    "            trueBranch = build_tree(best_sets[0])\n",
    "            falseBranch = build_tree(best_sets[1])\n",
    "            return decision_node(col=best_criteria[0], value=best_criteria[1], \n",
    "                                tb=trueBranch, fb=falseBranch)\n",
    "        else:\n",
    "            return decision_node(results=unique_counts(rows))"
   ]
  },
  {
   "cell_type": "code",
   "execution_count": 19,
   "metadata": {
    "collapsed": false
   },
   "outputs": [],
   "source": [
    "tree=build_tree(my_data)"
   ]
  },
  {
   "cell_type": "code",
   "execution_count": 20,
   "metadata": {
    "collapsed": true
   },
   "outputs": [],
   "source": [
    "def getwidth(tree):\n",
    "    if tree.tb==None and tree.fb==None: return 1\n",
    "    return getwidth(tree.tb)+getwidth(tree.fb)\n",
    "\n",
    "def getdepth(tree):\n",
    "    if tree.tb==None and tree.fb==None: return 0\n",
    "    return max(getdepth(tree.tb),getdepth(tree.fb))+1\n",
    "\n",
    "\n",
    "from PIL import Image,ImageDraw\n",
    "\n",
    "def drawtree(tree,jpeg='tree.jpg'):\n",
    "    w=getwidth(tree)*100\n",
    "    h=getdepth(tree)*100+120\n",
    "\n",
    "    img=Image.new('RGB',(w,h),(255,255,255))\n",
    "    draw=ImageDraw.Draw(img)\n",
    "\n",
    "    drawnode(draw,tree,w/2,20)\n",
    "    img.save(jpeg,'JPEG')\n",
    "    \n",
    "def drawnode(draw,tree,x,y):\n",
    "    if tree.results==None:\n",
    "        # Get the width of each branch\n",
    "        w1=getwidth(tree.fb)*100\n",
    "        w2=getwidth(tree.tb)*100\n",
    "\n",
    "        # Determine the total space required by this node\n",
    "        left=x-(w1+w2)/2\n",
    "        right=x+(w1+w2)/2\n",
    "\n",
    "        # Draw the condition string\n",
    "        draw.text((x-20,y-10),str(tree.col)+':'+str(tree.value),(0,0,0))\n",
    "\n",
    "        # Draw links to the branches\n",
    "        draw.line((x,y,left+w1/2,y+100),fill=(255,0,0))\n",
    "        draw.line((x,y,right-w2/2,y+100),fill=(255,0,0))\n",
    "\n",
    "        # Draw the branch nodes\n",
    "        drawnode(draw,tree.fb,left+w1/2,y+100)\n",
    "        drawnode(draw,tree.tb,right-w2/2,y+100)\n",
    "    else:\n",
    "        txt=' \\n'.join(['%s:%d'%v for v in tree.results.items()])\n",
    "        draw.text((x-20,y),txt,(0,0,0))"
   ]
  },
  {
   "cell_type": "code",
   "execution_count": 21,
   "metadata": {
    "collapsed": true
   },
   "outputs": [],
   "source": [
    "def buildtree(rows, scoref=entropy):  # rows is the set, either whole dataset or part of it in the recursive call, \n",
    "\n",
    "\n",
    "    # scoref is the method to measure heterogeneity. By default it's entropy.\n",
    "    if len(rows) == 0: return decisionnode()  # len(rows) is the number of units in a set\n",
    "    current_score = scoref(rows)\n",
    "    \n",
    "    # Set up some variables to track the best criteria\n",
    "    best_gain = 0.0\n",
    "    best_criteria = None\n",
    "    best_sets = None\n",
    "    \n",
    "    column_count = len(rows[0]) - 1  # count the # of attributes/columns. \n",
    "    # It's -1 because the last one is the target attribute and it does not count.\n",
    "    for col in range(0, column_count):\n",
    "        # Generate the list of all possible different values in the considered column\n",
    "        global column_values  # Added for debugging\n",
    "        column_values = {}\n",
    "        for row in rows:\n",
    "            column_values[row[col]] = 1\n",
    "            # Now try dividing the rows up for each value in this column\n",
    "        for value in column_values.keys():  # the 'values' here are the keys of the dictionnary\n",
    "            (set1, set2) = divideset(rows, col, value)  # define set1 and set2 as the 2 children set of a division\n",
    "    \n",
    "            # Information gain\n",
    "            p = float(len(set1)) / len(rows)  # p is the size of a child set relative to its parent\n",
    "            gain = current_score - p * scoref(set1) - (1 - p) * scoref(set2)  # cf. formula information gain\n",
    "            if gain > best_gain and len(set1) > 0 and len(set2) > 0:  # set must not be empty\n",
    "                best_gain = gain\n",
    "                best_criteria = (col, value)\n",
    "                best_sets = (set1, set2)\n",
    "    \n",
    "    # Create the sub branches   \n",
    "    if best_gain > 0:\n",
    "        trueBranch = buildtree(best_sets[0])\n",
    "        falseBranch = buildtree(best_sets[1])\n",
    "        return decisionnode(col=best_criteria[0], value=best_criteria[1],\n",
    "                            tb=trueBranch, fb=falseBranch)\n",
    "    else:\n",
    "        return decisionnode(results=uniquecounts(rows))"
   ]
  },
  {
   "cell_type": "code",
   "execution_count": 22,
   "metadata": {
    "collapsed": true
   },
   "outputs": [],
   "source": [
    "drawtree(tree,jpeg='treeview.jpg')"
   ]
  },
  {
   "cell_type": "code",
   "execution_count": 24,
   "metadata": {
    "collapsed": false
   },
   "outputs": [
    {
     "name": "stdout",
     "output_type": "stream",
     "text": [
      "0:google? \n",
      "T-> {'Premium': 3, 'Basic': 1, 'None': 1}\n",
      "F-> 0:slashdot? \n",
      "  T-> {'None': 3}\n",
      "  F-> 0:(direct)? \n",
      "    T-> {'Basic': 1, 'None': 1}\n",
      "    F-> {'Basic': 4, 'None': 2}\n"
     ]
    }
   ],
   "source": [
    "printtree(tree)"
   ]
  },
  {
   "cell_type": "code",
   "execution_count": 25,
   "metadata": {
    "collapsed": false
   },
   "outputs": [],
   "source": [
    "my_data = pd.DataFrame(my_data, columns=[\"source\", \"country\", \"yes_no\", \"pages\",\"tier\"])"
   ]
  },
  {
   "cell_type": "code",
   "execution_count": 71,
   "metadata": {
    "collapsed": true
   },
   "outputs": [],
   "source": [
    "def split_dataset(dataset, column, value):\n",
    "    if isinstance(value,int) or isinstance(value,float):\n",
    "        df1 = dataset[dataset[column]>=value]\n",
    "        df2 = dataset[dataset[column]< value]\n",
    "    else:\n",
    "        df1 = dataset[dataset[column]== value]\n",
    "        df2 = dataset[dataset[column]!= value]\n",
    "    return (df1,df2)"
   ]
  },
  {
   "cell_type": "code",
   "execution_count": 66,
   "metadata": {
    "collapsed": true
   },
   "outputs": [],
   "source": [
    "def unique_counts(dataset, class_column=\"tier\"):\n",
    "    return dataset[class_column].value_counts().to_dict()"
   ]
  },
  {
   "cell_type": "code",
   "execution_count": 67,
   "metadata": {
    "collapsed": true
   },
   "outputs": [],
   "source": [
    "from math import log\n",
    "def entropy(dataset):\n",
    "    log2 = lambda x: log(x)/log(2)\n",
    "    results = unique_counts(dataset)\n",
    "    ent = 0.0\n",
    "    for k,v in results.items():\n",
    "        p = float(v)/len(dataset)\n",
    "        ent = ent - p*log2(p)\n",
    "    return ent"
   ]
  },
  {
   "cell_type": "code",
   "execution_count": 73,
   "metadata": {
    "collapsed": true
   },
   "outputs": [],
   "source": [
    "class tree_node:\n",
    "    def __init__(self,col=-1,value=None,leftn=None, rightn=None, leaf=None):\n",
    "        self.col=col\n",
    "        self.value=value\n",
    "        self.leftn=leftn\n",
    "        self.rightn=rightn\n",
    "        self.leaf=leaf"
   ]
  },
  {
   "cell_type": "code",
   "execution_count": 174,
   "metadata": {
    "collapsed": false
   },
   "outputs": [],
   "source": [
    "class DecisionTree:\n",
    "    def fit(features, target, score_f=entropy):\n",
    "        label = target.name\n",
    "        features[label] = target.values\n",
    "        return build_tree(features, label, score_f)\n",
    "def predict(features, tree):\n",
    "    predictions = []\n",
    "    for row in range(0,len(features)):\n",
    "        predictions.append(classify(features.loc[row], tree))\n",
    "    return predictions\n",
    "def classify(features, tree):\n",
    "    if tree.leaf != None:\n",
    "        return list(tree.leaf.keys())[0]\n",
    "    else:\n",
    "        v = features[tree.col]\n",
    "        branch = None\n",
    "        if isinstance(v,int) or isinstance(v,float):\n",
    "            if v>= tree.value:\n",
    "                branch = tree.leftn\n",
    "            else:\n",
    "                branch = tree.rightn\n",
    "        else:\n",
    "            if v==tree.value:\n",
    "                branch = tree.leftn\n",
    "            else:\n",
    "                branch = tree.rightn \n",
    "        return classify(features, branch)\n",
    "def build_tree(dataset,label=\"tier\",score_f=entropy):\n",
    "    if len(dataset) == 0:\n",
    "        return tree_node()\n",
    "    current_score = score_f(dataset)\n",
    "\n",
    "    best_gain = 0.0\n",
    "    best_col_val = None\n",
    "    best_dfs = None\n",
    "\n",
    "    columns = list(dataset.columns)\n",
    "    columns.remove(label)\n",
    "    for col in columns:\n",
    "        unique_vals = list(dataset[col].unique())\n",
    "        for val in unique_vals:\n",
    "            (df1,df2) = split_dataset(dataset, col, val)\n",
    "            p = float(len(df1)/len(dataset))\n",
    "            infg = current_score - p*score_f(df1) - (1-p)*score_f(df2)\n",
    "            if infg > best_gain and len(df1)>0 and len(df2)>0:\n",
    "                print(\"GAIN: {}, COL: {}, VAL: {}\".format(infg,col,val))\n",
    "                best_gain = infg\n",
    "                best_col_val = (col,val)\n",
    "                best_dfs = (df1,df2)\n",
    "    if best_gain>0:\n",
    "        leftn = build_tree(best_dfs[0])\n",
    "        rightn = build_tree(best_dfs[1])\n",
    "        return tree_node(best_col_val[0], best_col_val[1], leftn, rightn)\n",
    "    else:\n",
    "        return tree_node(leaf=unique_counts(dataset))"
   ]
  },
  {
   "cell_type": "code",
   "execution_count": 110,
   "metadata": {
    "collapsed": true
   },
   "outputs": [
    {
     "name": "stdout",
     "output_type": "stream",
     "text": [
      "GAIN: 0.26517495061016083, COL: source, VAL: slashdot\n",
      "GAIN: 0.3934229837866562, COL: source, VAL: google\n",
      "GAIN: 0.17095059445466854, COL: country, VAL: France\n",
      "GAIN: 0.41997309402197514, COL: country, VAL: UK\n",
      "GAIN: 0.9709505944546687, COL: pages, VAL: 18\n",
      "GAIN: 1.0, COL: yes_no, VAL: no\n",
      "GAIN: 0.299896391167891, COL: source, VAL: slashdot\n",
      "GAIN: 0.0032289436203635224, COL: source, VAL: digg\n",
      "GAIN: 0.015712127384097774, COL: source, VAL: (direct)\n",
      "GAIN: 0.20443400292496494, COL: country, VAL: France\n",
      "GAIN: 0.5487949406953985, COL: yes_no, VAL: yes\n",
      "GAIN: 0.31127812445913283, COL: source, VAL: (direct)\n",
      "GAIN: 0.8112781244591328, COL: pages, VAL: 21\n"
     ]
    }
   ],
   "source": [
    "test1 = DecisionTree.fit(my_data[[\"source\", \"country\", \"yes_no\", \"pages\"]], my_data[\"tier\"])"
   ]
  },
  {
   "cell_type": "code",
   "execution_count": 108,
   "metadata": {
    "collapsed": true
   },
   "outputs": [
    {
     "name": "stdout",
     "output_type": "stream",
     "text": [
      "source:google? \n",
      "T-> pages:18? \n",
      "  T-> yes_no:no? \n",
      "    T-> {'None': 1}\n",
      "    F-> {'Basic': 1}\n",
      "  F-> {'Premium': 3}\n",
      "F-> source:slashdot? \n",
      "  T-> {'None': 3}\n",
      "  F-> yes_no:yes? \n",
      "    T-> {'Basic': 4}\n",
      "    F-> pages:21? \n",
      "      T-> {'Basic': 1}\n",
      "      F-> {'None': 3}\n"
     ]
    }
   ],
   "source": [
    "printtree(test1)"
   ]
  },
  {
   "cell_type": "code",
   "execution_count": 113,
   "metadata": {
    "collapsed": true
   },
   "outputs": [],
   "source": [
    "def printtree(tree,indent=''):\n",
    "   # Is this a leaf node?\n",
    "    if tree.leaf!=None:\n",
    "        print(str(tree.leaf))\n",
    "    else:\n",
    "        print(str(tree.col)+':'+str(tree.value)+'? ')\n",
    "        # Print the branches\n",
    "        print(indent+'T->', end=\" \")\n",
    "        printtree(tree.leftn,indent+'  ')\n",
    "        print(indent+'F->', end=\" \")\n",
    "        printtree(tree.rightn,indent+'  ')"
   ]
  },
  {
   "cell_type": "code",
   "execution_count": 175,
   "metadata": {
    "collapsed": false
   },
   "outputs": [
    {
     "data": {
      "text/plain": [
       "['None',\n",
       " 'Premium',\n",
       " 'Basic',\n",
       " 'Basic',\n",
       " 'Premium',\n",
       " 'None',\n",
       " 'Basic',\n",
       " 'Premium',\n",
       " 'None',\n",
       " 'None',\n",
       " 'None',\n",
       " 'None',\n",
       " 'Basic',\n",
       " 'None',\n",
       " 'Basic',\n",
       " 'Basic']"
      ]
     },
     "execution_count": 175,
     "metadata": {},
     "output_type": "execute_result"
    }
   ],
   "source": [
    "predict(my_data[[\"source\", \"country\", \"yes_no\", \"pages\"]], test1)"
   ]
  },
  {
   "cell_type": "code",
   "execution_count": null,
   "metadata": {
    "collapsed": true
   },
   "outputs": [],
   "source": []
  }
 ],
 "metadata": {
  "anaconda-cloud": {},
  "kernelspec": {
   "display_name": "Python [conda root]",
   "language": "python",
   "name": "conda-root-py"
  },
  "language_info": {
   "codemirror_mode": {
    "name": "ipython",
    "version": 3
   },
   "file_extension": ".py",
   "mimetype": "text/x-python",
   "name": "python",
   "nbconvert_exporter": "python",
   "pygments_lexer": "ipython3",
   "version": "3.5.2"
  }
 },
 "nbformat": 4,
 "nbformat_minor": 2
}
