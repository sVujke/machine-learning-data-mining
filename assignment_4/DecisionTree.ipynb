{
 "cells": [
  {
   "cell_type": "code",
   "execution_count": 1,
   "metadata": {
    "collapsed": true
   },
   "outputs": [],
   "source": [
    "import pandas as pd"
   ]
  },
  {
   "cell_type": "code",
   "execution_count": 2,
   "metadata": {
    "collapsed": true
   },
   "outputs": [],
   "source": [
    "my_data=[['slashdot','USA','yes',18,'None'],\n",
    "        ['google','France','yes',23,'Premium'],\n",
    "        ['digg','USA','yes',24,'Basic'],\n",
    "        ['kiwitobes','France','yes',23,'Basic'],\n",
    "        ['google','UK','no',21,'Premium'],\n",
    "        ['(direct)','New Zealand','no',12,'None'],\n",
    "        ['(direct)','UK','no',21,'Basic'],\n",
    "        ['google','USA','no',24,'Premium'],\n",
    "        ['slashdot','France','yes',19,'None'],\n",
    "        ['digg','USA','no',18,'None'],\n",
    "        ['google','UK','no',18,'None'],\n",
    "        ['kiwitobes','UK','no',19,'None'],\n",
    "        ['digg','New Zealand','yes',12,'Basic'],\n",
    "        ['slashdot','UK','no',21,'None'],\n",
    "        ['google','UK','yes',18,'Basic'],\n",
    "        ['kiwitobes','France','yes',19,'Basic']]"
   ]
  },
  {
   "cell_type": "code",
   "execution_count": 3,
   "metadata": {
    "collapsed": false
   },
   "outputs": [],
   "source": [
    "my_data = pd.DataFrame(my_data, columns=[\"source\", \"country\", \"yes_no\", \"pages\",\"tier\"])"
   ]
  },
  {
   "cell_type": "code",
   "execution_count": 4,
   "metadata": {
    "collapsed": true
   },
   "outputs": [],
   "source": [
    "def split_dataset(dataset, column, value):\n",
    "    if isinstance(value,int) or isinstance(value,float):\n",
    "        df1 = dataset[dataset[column]>=value]\n",
    "        df2 = dataset[dataset[column]< value]\n",
    "    else:\n",
    "        df1 = dataset[dataset[column]== value]\n",
    "        df2 = dataset[dataset[column]!= value]\n",
    "    return (df1,df2)"
   ]
  },
  {
   "cell_type": "code",
   "execution_count": 5,
   "metadata": {
    "collapsed": true
   },
   "outputs": [],
   "source": [
    "def unique_counts(dataset, class_column=\"tier\"):\n",
    "    return dataset[class_column].value_counts().to_dict()"
   ]
  },
  {
   "cell_type": "code",
   "execution_count": 6,
   "metadata": {
    "collapsed": true
   },
   "outputs": [],
   "source": [
    "from math import log\n",
    "def entropy(dataset):\n",
    "    log2 = lambda x: log(x)/log(2)\n",
    "    results = unique_counts(dataset)\n",
    "    ent = 0.0\n",
    "    for k,v in results.items():\n",
    "        p = float(v)/len(dataset)\n",
    "        ent = ent - p*log2(p)\n",
    "    return ent"
   ]
  },
  {
   "cell_type": "code",
   "execution_count": 7,
   "metadata": {
    "collapsed": true
   },
   "outputs": [],
   "source": [
    "class tree_node:\n",
    "    def __init__(self,col=-1,value=None,leftn=None, rightn=None, leaf=None):\n",
    "        self.col=col\n",
    "        self.value=value\n",
    "        self.leftn=leftn\n",
    "        self.rightn=rightn\n",
    "        self.leaf=leaf"
   ]
  },
  {
   "cell_type": "code",
   "execution_count": 8,
   "metadata": {
    "collapsed": false
   },
   "outputs": [],
   "source": [
    "class DecisionTree:\n",
    "    def __init__(self, tree=None):\n",
    "        self.tree = tree\n",
    "    def fit(self, features, target, score_f=entropy):\n",
    "        label = target.name\n",
    "        features[label] = target.values\n",
    "        self.tree = self.build_tree(features, label, score_f)\n",
    "    def predict(self, features):\n",
    "        predictions = []\n",
    "        for row in range(0,len(features)):\n",
    "            predictions.append(self.classify(features.iloc[row], self.tree))\n",
    "        return predictions\n",
    "    def classify(self, features, tree):\n",
    "        if tree.leaf != None:\n",
    "            return list(tree.leaf.keys())[0]\n",
    "        else:\n",
    "            v = features[tree.col]\n",
    "            branch = None\n",
    "            if isinstance(v,int) or isinstance(v,float):\n",
    "                if v>= tree.value:\n",
    "                    branch = tree.leftn\n",
    "                else:\n",
    "                    branch = tree.rightn\n",
    "            else:\n",
    "                if v==tree.value:\n",
    "                    branch = tree.leftn\n",
    "                else:\n",
    "                    branch = tree.rightn \n",
    "            return self.classify(features, branch)\n",
    "    def build_tree(self, dataset,label=\"tier\",score_f=entropy):\n",
    "        if len(dataset) == 0:\n",
    "            return tree_node()\n",
    "        current_score = score_f(dataset)\n",
    "\n",
    "        best_gain = 0.0\n",
    "        best_col_val = None\n",
    "        best_dfs = None\n",
    "\n",
    "        columns = list(dataset.columns)\n",
    "        columns.remove(label)\n",
    "        for col in columns:\n",
    "            unique_vals = list(dataset[col].unique())\n",
    "            for val in unique_vals:\n",
    "                (df1,df2) = split_dataset(dataset, col, val)\n",
    "                p = float(len(df1)/len(dataset))\n",
    "                infg = current_score - p*score_f(df1) - (1-p)*score_f(df2)\n",
    "                if infg > best_gain and len(df1)>0 and len(df2)>0:\n",
    "#                     print(\"GAIN: {}, COL: {}, VAL: {}\".format(infg,col,val))\n",
    "                    best_gain = infg\n",
    "                    best_col_val = (col,val)\n",
    "                    best_dfs = (df1,df2)\n",
    "        if best_gain>0:\n",
    "            leftn = self.build_tree(best_dfs[0])\n",
    "            rightn = self.build_tree(best_dfs[1])\n",
    "            return tree_node(best_col_val[0], best_col_val[1], leftn, rightn)\n",
    "        else:\n",
    "            return tree_node(leaf=unique_counts(dataset))\n",
    "        \n",
    "def printtree(tree, indent=''):\n",
    "\n",
    "    # Is this a leaf node?\n",
    "    if tree.leaf!=None:\n",
    "        print(str(tree.leaf))\n",
    "    else:\n",
    "        print(str(tree.col)+':'+str(tree.value)+'? ')\n",
    "        # Print the branches\n",
    "        print(indent+'T->', end=\" \")\n",
    "        printtree(tree.leftn,indent+'  ')\n",
    "        print(indent+'F->', end=\" \")\n",
    "        printtree(tree.rightn,indent+'  ')"
   ]
  },
  {
   "cell_type": "code",
   "execution_count": 9,
   "metadata": {
    "collapsed": false
   },
   "outputs": [],
   "source": [
    "dt = DecisionTree()\n",
    "test1 = dt.fit(my_data[[\"source\", \"country\", \"yes_no\", \"pages\"]], my_data[\"tier\"])"
   ]
  },
  {
   "cell_type": "code",
   "execution_count": 10,
   "metadata": {
    "collapsed": false
   },
   "outputs": [
    {
     "name": "stdout",
     "output_type": "stream",
     "text": [
      "source:google? \n",
      "T-> pages:18? \n",
      "  T-> yes_no:no? \n",
      "    T-> {'None': 1}\n",
      "    F-> {'Basic': 1}\n",
      "  F-> {'Premium': 3}\n",
      "F-> source:slashdot? \n",
      "  T-> {'None': 3}\n",
      "  F-> yes_no:yes? \n",
      "    T-> {'Basic': 4}\n",
      "    F-> pages:21? \n",
      "      T-> {'Basic': 1}\n",
      "      F-> {'None': 3}\n"
     ]
    }
   ],
   "source": [
    "printtree(dt.tree)"
   ]
  },
  {
   "cell_type": "code",
   "execution_count": 11,
   "metadata": {
    "collapsed": false
   },
   "outputs": [],
   "source": [
    "predicted = dt.predict(my_data[[\"source\", \"country\", \"yes_no\", \"pages\"]])"
   ]
  },
  {
   "cell_type": "code",
   "execution_count": 12,
   "metadata": {
    "collapsed": false
   },
   "outputs": [
    {
     "data": {
      "text/plain": [
       "1.0"
      ]
     },
     "execution_count": 12,
     "metadata": {},
     "output_type": "execute_result"
    }
   ],
   "source": [
    "from sklearn.metrics import accuracy_score\n",
    "accuracy_score(my_data['tier'], predicted)"
   ]
  },
  {
   "cell_type": "code",
   "execution_count": 13,
   "metadata": {
    "collapsed": true
   },
   "outputs": [],
   "source": [
    "def generate_trees(train, features, label, m=9):\n",
    "    dt_list = []\n",
    "    for i in range(0,m):\n",
    "        sample = train.sample(len(train), replace=True)\n",
    "        dt = DecisionTree()\n",
    "        dt.fit(sample[features], sample[label])\n",
    "        dt_list.append(dt)\n",
    "    return dt_list"
   ]
  },
  {
   "cell_type": "code",
   "execution_count": 14,
   "metadata": {
    "collapsed": false
   },
   "outputs": [
    {
     "data": {
      "text/plain": [
       "[<__main__.DecisionTree at 0x1549811a160>,\n",
       " <__main__.DecisionTree at 0x15498202cc0>,\n",
       " <__main__.DecisionTree at 0x15498ab6be0>,\n",
       " <__main__.DecisionTree at 0x15498109e10>,\n",
       " <__main__.DecisionTree at 0x1549767a160>,\n",
       " <__main__.DecisionTree at 0x15498202128>,\n",
       " <__main__.DecisionTree at 0x15498aebef0>,\n",
       " <__main__.DecisionTree at 0x1549821ac50>,\n",
       " <__main__.DecisionTree at 0x15498aebe80>]"
      ]
     },
     "execution_count": 14,
     "metadata": {},
     "output_type": "execute_result"
    }
   ],
   "source": [
    "generate_trees(my_data, [\"source\", \"country\", \"yes_no\", \"pages\"], \"tier\")"
   ]
  },
  {
   "cell_type": "code",
   "execution_count": 15,
   "metadata": {
    "collapsed": true
   },
   "outputs": [],
   "source": [
    "from collections import Counter\n",
    "def bagging(train, test, features, label, m):\n",
    "    predictions = []\n",
    "    dt_list = generate_trees(train, features, label, m)\n",
    "    df = pd.DataFrame()\n",
    "    for i in range(0, len(dt_list)):\n",
    "        dt = dt_list[i]\n",
    "        predictions = dt.predict(test)\n",
    "        df[i] = pd.Series(predictions)\n",
    "    for row in df.iterrows():\n",
    "        c = Counter([pred for pred in row[1]])\n",
    "        predicted.append(c.most_common()[0][0])\n",
    "    return predictions"
   ]
  },
  {
   "cell_type": "code",
   "execution_count": 16,
   "metadata": {
    "collapsed": false
   },
   "outputs": [
    {
     "data": {
      "text/plain": [
       "['None', 'None', 'None', 'None']"
      ]
     },
     "execution_count": 16,
     "metadata": {},
     "output_type": "execute_result"
    }
   ],
   "source": [
    "from sklearn.model_selection import train_test_split\n",
    "x_train, x_test, y_train, y_test = train_test_split(my_data.drop('tier', 1), my_data['tier'], test_size=0.2)\n",
    "x_train['tier']  = y_train\n",
    "x_test['tier'] = y_test\n",
    "\n",
    "bagging(x_train, x_test, [\"source\", \"country\", \"yes_no\", \"pages\"], 'tier', 9)"
   ]
  },
  {
   "cell_type": "code",
   "execution_count": null,
   "metadata": {
    "collapsed": false
   },
   "outputs": [],
   "source": []
  },
  {
   "cell_type": "code",
   "execution_count": null,
   "metadata": {
    "collapsed": true
   },
   "outputs": [],
   "source": []
  }
 ],
 "metadata": {
  "anaconda-cloud": {},
  "kernelspec": {
   "display_name": "Python [conda root]",
   "language": "python",
   "name": "conda-root-py"
  },
  "language_info": {
   "codemirror_mode": {
    "name": "ipython",
    "version": 3
   },
   "file_extension": ".py",
   "mimetype": "text/x-python",
   "name": "python",
   "nbconvert_exporter": "python",
   "pygments_lexer": "ipython3",
   "version": "3.5.2"
  }
 },
 "nbformat": 4,
 "nbformat_minor": 2
}
