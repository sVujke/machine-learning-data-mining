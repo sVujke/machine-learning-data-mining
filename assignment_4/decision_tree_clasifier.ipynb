{
 "cells": [
  {
   "cell_type": "code",
   "execution_count": 31,
   "metadata": {
    "collapsed": true
   },
   "outputs": [],
   "source": [
    "#1 Podela podataka u odnosu na KOLONU i VREDNOST\n",
    "#2 Frekvencije klasa u datoj iteraciji\n",
    "#3 Entropija (oslanja se na prethodna dva)\n",
    "#4 decision_node klasa, cuva levo, desno, kolonu po kojoj se splituje, vrednost pok kojoj se splituje, ako je leaf ima result\n",
    "#5 build_tree metoda - za sve kolone i sve vrednosti trazimo najbolji split racunajuci ENTROPIJU, za najbolji split\n",
    "# pozivamo funkciju opet za levo i desno, ako nema najboljeg splita pravimo leaf node\n",
    "# predict - trazimo leaf node tj. results. Ispitujemo kolonu trenutnog cvora u prosledjenoj instanci i \n",
    "# ekurzivno idemo do dna stabla, moze i iterativno"
   ]
  },
  {
   "cell_type": "code",
   "execution_count": 33,
   "metadata": {
    "collapsed": true
   },
   "outputs": [],
   "source": [
    "import numpy as np\n",
    "import pandas as pd"
   ]
  },
  {
   "cell_type": "code",
   "execution_count": 34,
   "metadata": {
    "collapsed": true
   },
   "outputs": [],
   "source": [
    "my_data=[['slashdot','USA','yes',18,'None'],\n",
    "        ['google','France','yes',23,'Premium'],\n",
    "        ['digg','USA','yes',24,'Basic'],\n",
    "        ['kiwitobes','France','yes',23,'Basic'],\n",
    "        ['google','UK','no',21,'Premium'],\n",
    "        ['(direct)','New Zealand','no',12,'None'],\n",
    "        ['(direct)','UK','no',21,'Basic'],\n",
    "        ['google','USA','no',24,'Premium'],\n",
    "        ['slashdot','France','yes',19,'None'],\n",
    "        ['digg','USA','no',18,'None'],\n",
    "        ['google','UK','no',18,'None'],\n",
    "        ['kiwitobes','UK','no',19,'None'],\n",
    "        ['digg','New Zealand','yes',12,'Basic'],\n",
    "        ['slashdot','UK','no',21,'None'],\n",
    "        ['google','UK','yes',18,'Basic'],\n",
    "        ['kiwitobes','France','yes',19,'Basic']]"
   ]
  },
  {
   "cell_type": "code",
   "execution_count": 36,
   "metadata": {
    "collapsed": false
   },
   "outputs": [],
   "source": [
    "my_data = pd.DataFrame(my_data, columns=[\"source\", \"country\", \"yes_no\", \"pages\",\"tier\"])  "
   ]
  },
  {
   "cell_type": "code",
   "execution_count": 41,
   "metadata": {
    "collapsed": false
   },
   "outputs": [
    {
     "data": {
      "text/plain": [
       "0      slashdot\n",
       "1        google\n",
       "2          digg\n",
       "3     kiwitobes\n",
       "4        google\n",
       "5      (direct)\n",
       "6      (direct)\n",
       "7        google\n",
       "8      slashdot\n",
       "9          digg\n",
       "10       google\n",
       "11    kiwitobes\n",
       "12         digg\n",
       "13     slashdot\n",
       "14       google\n",
       "15    kiwitobes\n",
       "Name: source, dtype: object"
      ]
     },
     "execution_count": 41,
     "metadata": {},
     "output_type": "execute_result"
    }
   ],
   "source": [
    "my_data[my_data.columns[0]]"
   ]
  },
  {
   "cell_type": "code",
   "execution_count": null,
   "metadata": {
    "collapsed": true
   },
   "outputs": [],
   "source": [
    "def split(dataset, column, value):\n",
    "    "
   ]
  },
  {
   "cell_type": "code",
   "execution_count": 51,
   "metadata": {
    "collapsed": false
   },
   "outputs": [
    {
     "data": {
      "text/plain": [
       "<bound method Series.to_dict of google       5\n",
       "kiwitobes    3\n",
       "slashdot     3\n",
       "digg         3\n",
       "(direct)     2\n",
       "Name: source, dtype: int64>"
      ]
     },
     "execution_count": 51,
     "metadata": {},
     "output_type": "execute_result"
    }
   ],
   "source": [
    "my_data.source.value_counts().to_dict"
   ]
  },
  {
   "cell_type": "code",
   "execution_count": null,
   "metadata": {
    "collapsed": true
   },
   "outputs": [],
   "source": []
  }
 ],
 "metadata": {
  "anaconda-cloud": {},
  "kernelspec": {
   "display_name": "Python [conda root]",
   "language": "python",
   "name": "conda-root-py"
  },
  "language_info": {
   "codemirror_mode": {
    "name": "ipython",
    "version": 3
   },
   "file_extension": ".py",
   "mimetype": "text/x-python",
   "name": "python",
   "nbconvert_exporter": "python",
   "pygments_lexer": "ipython3",
   "version": "3.5.2"
  }
 },
 "nbformat": 4,
 "nbformat_minor": 1
}
