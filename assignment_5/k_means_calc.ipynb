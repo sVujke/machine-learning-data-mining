{
 "cells": [
  {
   "cell_type": "code",
   "execution_count": 1,
   "metadata": {
    "collapsed": true
   },
   "outputs": [],
   "source": [
    "import math\n",
    "def return_distance(x1,y1,x2,y2):\n",
    "    before = (x1-x2)**2+(y1-y2)**2\n",
    "    return math.sqrt(before)"
   ]
  },
  {
   "cell_type": "code",
   "execution_count": 2,
   "metadata": {
    "collapsed": false
   },
   "outputs": [
    {
     "data": {
      "text/plain": [
       "0.0"
      ]
     },
     "execution_count": 2,
     "metadata": {},
     "output_type": "execute_result"
    }
   ],
   "source": [
    "return_distance(1,5,1,5)"
   ]
  },
  {
   "cell_type": "code",
   "execution_count": 3,
   "metadata": {
    "collapsed": false
   },
   "outputs": [],
   "source": [
    "list_x2 = [1,6,8,3,2,2,6,6,7,7,8,8]\n",
    "list_y2 = [5,2,1,5,4,6,1,8,3,6,3,7]\n",
    "\n",
    "def return_distances(x1,y1,list_x2,list_y2):\n",
    "    column = []\n",
    "    for i in range(0, len(list_y2)):\n",
    "        column.append(return_distance(x1,y1,list_x2[i],list_y2[i]))\n",
    "    return column    "
   ]
  },
  {
   "cell_type": "code",
   "execution_count": 4,
   "metadata": {
    "collapsed": false
   },
   "outputs": [
    {
     "name": "stdout",
     "output_type": "stream",
     "text": [
      "[0.0, 5.830951894845301, 8.06225774829855, 2.0, 1.4142135623730951, 1.4142135623730951, 6.4031242374328485, 5.830951894845301, 6.324555320336759, 6.082762530298219, 7.280109889280518, 7.280109889280518]\n"
     ]
    }
   ],
   "source": [
    "x1 = 1\n",
    "y1 = 5\n",
    "cl11 = return_distances(x1,y1,list_x2, list_y2)\n",
    "print(cl11)"
   ]
  },
  {
   "cell_type": "code",
   "execution_count": 5,
   "metadata": {
    "collapsed": false
   },
   "outputs": [
    {
     "name": "stdout",
     "output_type": "stream",
     "text": [
      "[5.830951894845301, 0.0, 2.23606797749979, 4.242640687119285, 4.47213595499958, 5.656854249492381, 1.0, 6.0, 1.4142135623730951, 4.123105625617661, 2.23606797749979, 5.385164807134504]\n"
     ]
    }
   ],
   "source": [
    "x1 = 6\n",
    "y1 = 2\n",
    "cl21 = return_distances(x1,y1,list_x2, list_y2)\n",
    "print(cl21)"
   ]
  },
  {
   "cell_type": "code",
   "execution_count": 6,
   "metadata": {
    "collapsed": false
   },
   "outputs": [
    {
     "name": "stdout",
     "output_type": "stream",
     "text": [
      "[8.06225774829855, 2.23606797749979, 0.0, 6.4031242374328485, 6.708203932499369, 7.810249675906654, 2.0, 7.280109889280518, 2.23606797749979, 5.0990195135927845, 2.0, 6.0]\n"
     ]
    }
   ],
   "source": [
    "x1 = 8\n",
    "y1 = 1\n",
    "cl31 = return_distances(x1,y1,list_x2, list_y2)\n",
    "print(cl31)"
   ]
  },
  {
   "cell_type": "code",
   "execution_count": 20,
   "metadata": {
    "collapsed": false
   },
   "outputs": [
    {
     "name": "stdout",
     "output_type": "stream",
     "text": [
      "x 8\n",
      "y 2\n"
     ]
    }
   ],
   "source": [
    "import statistics as stat\n",
    "\n",
    "print(\"x\",stat.mean([8,8]))\n",
    "x1cl3 = stat.mean([8,8])\n",
    "print(\"y\",stat.mean([1,3]))\n",
    "y1cl3 = stat.mean([1,3])"
   ]
  },
  {
   "cell_type": "code",
   "execution_count": 29,
   "metadata": {
    "collapsed": false
   },
   "outputs": [
    {
     "name": "stdout",
     "output_type": "stream",
     "text": [
      "x 2\n",
      "y 5\n"
     ]
    }
   ],
   "source": [
    "print(\"x\",stat.mean([list_x2[0],list_x2[4],list_x2[5],list_x2[3]]))\n",
    "x1cl1 = stat.mean([list_x2[0],list_x2[4],list_x2[5],list_x2[3]])\n",
    "print(\"y\",stat.mean([list_y2[0],list_y2[4],list_y2[5],list_y2[3]]))\n",
    "y1cl1 = stat.mean([list_y2[0],list_y2[4],list_y2[5],list_y2[3]])"
   ]
  },
  {
   "cell_type": "code",
   "execution_count": 30,
   "metadata": {
    "collapsed": false
   },
   "outputs": [
    {
     "name": "stdout",
     "output_type": "stream",
     "text": [
      "x 6.666666666666667\n",
      "y 4.5\n"
     ]
    }
   ],
   "source": [
    "print(\"x\",stat.mean([list_x2[1],list_x2[9],list_x2[8],list_x2[7],list_x2[6],list_x2[11]]))\n",
    "x1cl2 = stat.mean([list_x2[1],list_x2[9],list_x2[8],list_x2[7],list_x2[6],list_x2[11]])\n",
    "print(\"y\",stat.mean([list_y2[1],list_y2[9],list_y2[8],list_y2[7],list_y2[6],list_y2[11]]))\n",
    "y1cl2 = stat.mean([list_x2[1],list_x2[9],list_x2[8],list_x2[7],list_x2[6],list_x2[11]])"
   ]
  },
  {
   "cell_type": "code",
   "execution_count": 31,
   "metadata": {
    "collapsed": false
   },
   "outputs": [
    {
     "data": {
      "text/plain": [
       "[1.0,\n",
       " 5.0,\n",
       " 7.211102550927978,\n",
       " 1.0,\n",
       " 1.0,\n",
       " 1.0,\n",
       " 5.656854249492381,\n",
       " 5.0,\n",
       " 5.385164807134504,\n",
       " 5.0990195135927845,\n",
       " 6.324555320336759,\n",
       " 6.324555320336759]"
      ]
     },
     "execution_count": 31,
     "metadata": {},
     "output_type": "execute_result"
    }
   ],
   "source": [
    "cl12 = return_distances(x1cl1, y1cl1,list_x2, list_y2)\n",
    "cl12"
   ]
  },
  {
   "cell_type": "code",
   "execution_count": 26,
   "metadata": {
    "collapsed": false
   },
   "outputs": [
    {
     "data": {
      "text/plain": [
       "[5.90668171555645,\n",
       " 4.714045207910318,\n",
       " 5.821416398857661,\n",
       " 4.027681991198191,\n",
       " 5.3748384988657,\n",
       " 4.714045207910318,\n",
       " 5.70574758954123,\n",
       " 1.4907119849998596,\n",
       " 3.6817870057290873,\n",
       " 0.74535599249993,\n",
       " 3.901566636906542,\n",
       " 1.374368541872553]"
      ]
     },
     "execution_count": 26,
     "metadata": {},
     "output_type": "execute_result"
    }
   ],
   "source": [
    "cl22 = return_distances(x1cl2, y1cl2,list_x2, list_y2)\n",
    "cl22"
   ]
  },
  {
   "cell_type": "code",
   "execution_count": 27,
   "metadata": {
    "collapsed": false
   },
   "outputs": [
    {
     "data": {
      "text/plain": [
       "[7.615773105863909,\n",
       " 2.0,\n",
       " 1.0,\n",
       " 5.830951894845301,\n",
       " 6.324555320336759,\n",
       " 7.211102550927978,\n",
       " 2.23606797749979,\n",
       " 6.324555320336759,\n",
       " 1.4142135623730951,\n",
       " 4.123105625617661,\n",
       " 1.0,\n",
       " 5.0]"
      ]
     },
     "execution_count": 27,
     "metadata": {},
     "output_type": "execute_result"
    }
   ],
   "source": [
    "cl32 = return_distances(x1cl3, y1cl3,list_x2, list_y2)\n",
    "cl32"
   ]
  },
  {
   "cell_type": "code",
   "execution_count": 32,
   "metadata": {
    "collapsed": false
   },
   "outputs": [
    {
     "name": "stdout",
     "output_type": "stream",
     "text": [
      "x 2\n",
      "y 4.5\n"
     ]
    }
   ],
   "source": [
    "print(\"x\",stat.mean([list_x2[0],list_x2[4],list_x2[5],list_x2[3]]))\n",
    "x1cl1 = stat.mean([list_x2[0],list_x2[4],list_x2[5],list_x2[3]])\n",
    "print(\"y\",stat.mean([list_y2[0],list_y2[4],list_y2[5],list_x2[3]]))\n",
    "y1cl1 = stat.mean([list_y2[0],list_y2[4],list_y2[5],list_x2[3]])"
   ]
  },
  {
   "cell_type": "code",
   "execution_count": 33,
   "metadata": {
    "collapsed": false
   },
   "outputs": [
    {
     "name": "stdout",
     "output_type": "stream",
     "text": [
      "x 7\n",
      "y 7\n"
     ]
    }
   ],
   "source": [
    "print(\"x\",stat.mean([list_x2[7],list_x2[9],list_x2[11]]))\n",
    "x1cl2 = stat.mean([list_x2[7],list_x2[9],list_x2[11]])\n",
    "print(\"y\",stat.mean([list_x2[7],list_x2[9],list_x2[11]]))\n",
    "y1cl2 = stat.mean([list_x2[7],list_x2[9],list_x2[11]])"
   ]
  },
  {
   "cell_type": "code",
   "execution_count": 35,
   "metadata": {
    "collapsed": false
   },
   "outputs": [
    {
     "name": "stdout",
     "output_type": "stream",
     "text": [
      "x 7\n",
      "y 2\n"
     ]
    }
   ],
   "source": [
    "print(\"x\",stat.mean([list_x2[1],list_x2[2],list_x2[6],list_x2[8],list_x2[10]]))\n",
    "x1cl3 = stat.mean([list_x2[1],list_x2[2],list_x2[6],list_x2[8],list_x2[10]])\n",
    "print(\"y\",stat.mean([list_y2[1],list_y2[2],list_y2[6],list_y2[8],list_y2[10]]))\n",
    "y1cl3 = stat.mean([list_y2[1],list_y2[2],list_y2[6],list_y2[8],list_y2[10]])"
   ]
  },
  {
   "cell_type": "code",
   "execution_count": 36,
   "metadata": {
    "collapsed": false
   },
   "outputs": [
    {
     "data": {
      "text/plain": [
       "[1.118033988749895,\n",
       " 4.716990566028302,\n",
       " 6.946221994724902,\n",
       " 1.118033988749895,\n",
       " 0.5,\n",
       " 1.5,\n",
       " 5.315072906367325,\n",
       " 5.315072906367325,\n",
       " 5.220153254455275,\n",
       " 5.220153254455275,\n",
       " 6.18465843842649,\n",
       " 6.5]"
      ]
     },
     "execution_count": 36,
     "metadata": {},
     "output_type": "execute_result"
    }
   ],
   "source": [
    "cl12 = return_distances(x1cl1, y1cl1,list_x2, list_y2)\n",
    "cl12"
   ]
  },
  {
   "cell_type": "code",
   "execution_count": 38,
   "metadata": {
    "collapsed": false
   },
   "outputs": [
    {
     "data": {
      "text/plain": [
       "[6.324555320336759,\n",
       " 5.0990195135927845,\n",
       " 6.082762530298219,\n",
       " 4.47213595499958,\n",
       " 5.830951894845301,\n",
       " 5.0990195135927845,\n",
       " 6.082762530298219,\n",
       " 1.4142135623730951,\n",
       " 4.0,\n",
       " 1.0,\n",
       " 4.123105625617661,\n",
       " 1.0]"
      ]
     },
     "execution_count": 38,
     "metadata": {},
     "output_type": "execute_result"
    }
   ],
   "source": [
    "c213 = return_distances(x1cl2, y1cl2,list_x2, list_y2)\n",
    "c213"
   ]
  },
  {
   "cell_type": "code",
   "execution_count": 40,
   "metadata": {
    "collapsed": false
   },
   "outputs": [
    {
     "data": {
      "text/plain": [
       "[6.708203932499369,\n",
       " 1.0,\n",
       " 1.4142135623730951,\n",
       " 5.0,\n",
       " 5.385164807134504,\n",
       " 6.4031242374328485,\n",
       " 1.4142135623730951,\n",
       " 6.082762530298219,\n",
       " 1.0,\n",
       " 4.0,\n",
       " 1.4142135623730951,\n",
       " 5.0990195135927845]"
      ]
     },
     "execution_count": 40,
     "metadata": {},
     "output_type": "execute_result"
    }
   ],
   "source": [
    "cl23 = return_distances(x1cl3, y1cl3,list_x2, list_y2)\n",
    "cl23"
   ]
  },
  {
   "cell_type": "code",
   "execution_count": null,
   "metadata": {
    "collapsed": true
   },
   "outputs": [],
   "source": []
  }
 ],
 "metadata": {
  "anaconda-cloud": {},
  "kernelspec": {
   "display_name": "Python [conda root]",
   "language": "python",
   "name": "conda-root-py"
  },
  "language_info": {
   "codemirror_mode": {
    "name": "ipython",
    "version": 3
   },
   "file_extension": ".py",
   "mimetype": "text/x-python",
   "name": "python",
   "nbconvert_exporter": "python",
   "pygments_lexer": "ipython3",
   "version": "3.5.2"
  }
 },
 "nbformat": 4,
 "nbformat_minor": 1
}
